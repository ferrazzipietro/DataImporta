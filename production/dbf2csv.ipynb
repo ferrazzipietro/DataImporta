{
 "cells": [
  {
   "cell_type": "markdown",
   "metadata": {},
   "source": [
    "**CONVERT DBF TO CSV** "
   ]
  },
  {
   "cell_type": "code",
   "execution_count": 2,
   "metadata": {},
   "outputs": [],
   "source": [
    "from dbfread import DBF \n",
    "import os\n",
    "import pandas as pd\n",
    "import csv \n",
    "\n",
    "## path to the dbf files\n",
    "path_peru='/Users/pietro/Desktop/BDM/Project/Data.nosync/peru'\n",
    "dbfs=os.listdir(path_peru+'/dbf')"
   ]
  },
  {
   "cell_type": "markdown",
   "metadata": {},
   "source": [
    "Generating the .csv names of the files"
   ]
  },
  {
   "cell_type": "code",
   "execution_count": 4,
   "metadata": {},
   "outputs": [],
   "source": [
    "csv_names = []\n",
    "for name in dbfs:\n",
    "    csv_names.append(name.split('.')[0]+'.csv')"
   ]
  },
  {
   "cell_type": "markdown",
   "metadata": {},
   "source": [
    "THERE ARE TWO WAYS:"
   ]
  },
  {
   "cell_type": "markdown",
   "metadata": {},
   "source": [
    "Converting dbf to csv (**passing throw DataFrames**)"
   ]
  },
  {
   "cell_type": "code",
   "execution_count": 6,
   "metadata": {},
   "outputs": [
    {
     "name": "stdout",
     "output_type": "stream",
     "text": [
      "ma21270222.DBF\n",
      "0\n",
      "converted into ma21270222.csv in imp\n",
      "ma07130222.DBF\n",
      "1\n",
      "converted into ma07130222.csv in imp\n",
      "ma31060222.DBF\n",
      "2\n",
      "converted into ma31060222.csv in imp\n",
      "ma24300122.DBF\n",
      "3\n",
      "converted into ma24300122.csv in imp\n",
      "ma07130322.DBF\n",
      "4\n",
      "converted into ma07130322.csv in imp\n",
      "ma17230122.DBF\n",
      "5\n",
      "converted into ma17230122.csv in imp\n",
      "ma21270322.DBF\n",
      "6\n",
      "converted into ma21270322.csv in imp\n",
      "ma28060322.DBF\n",
      "7\n",
      "converted into ma28060322.csv in imp\n",
      "ma14200222.DBF\n",
      "8\n",
      "converted into ma14200222.csv in imp\n",
      "ma14200322.DBF\n",
      "9\n",
      "converted into ma14200322.csv in imp\n"
     ]
    },
    {
     "ename": "ValueError",
     "evalue": "Unknown field type: ','",
     "output_type": "error",
     "traceback": [
      "\u001b[0;31m---------------------------------------------------------------------------\u001b[0m",
      "\u001b[0;31mValueError\u001b[0m                                Traceback (most recent call last)",
      "\u001b[1;32m/Users/pietro/Desktop/dbf2csv/temporal_lz_ structure.ipynb Cell 8'\u001b[0m in \u001b[0;36m<cell line: 2>\u001b[0;34m()\u001b[0m\n\u001b[1;32m      <a href='vscode-notebook-cell:/Users/pietro/Desktop/dbf2csv/temporal_lz_%20structure.ipynb#ch0000003?line=0'>1</a>\u001b[0m i \u001b[39m=\u001b[39m \u001b[39m-\u001b[39m\u001b[39m1\u001b[39m\n\u001b[1;32m      <a href='vscode-notebook-cell:/Users/pietro/Desktop/dbf2csv/temporal_lz_%20structure.ipynb#ch0000003?line=1'>2</a>\u001b[0m \u001b[39mfor\u001b[39;00m dbf \u001b[39min\u001b[39;00m dbfs:\n\u001b[0;32m----> <a href='vscode-notebook-cell:/Users/pietro/Desktop/dbf2csv/temporal_lz_%20structure.ipynb#ch0000003?line=2'>3</a>\u001b[0m     db \u001b[39m=\u001b[39m DBF(path_peru\u001b[39m+\u001b[39;49m\u001b[39m'\u001b[39;49m\u001b[39m/dbf/\u001b[39;49m\u001b[39m'\u001b[39;49m\u001b[39m+\u001b[39;49mdbf, encoding\u001b[39m=\u001b[39;49m\u001b[39m'\u001b[39;49m\u001b[39mlatin-1\u001b[39;49m\u001b[39m'\u001b[39;49m)\n\u001b[1;32m      <a href='vscode-notebook-cell:/Users/pietro/Desktop/dbf2csv/temporal_lz_%20structure.ipynb#ch0000003?line=3'>4</a>\u001b[0m     df \u001b[39m=\u001b[39m pd\u001b[39m.\u001b[39mDataFrame(db) \u001b[39m# passing to dataframe\u001b[39;00m\n\u001b[1;32m      <a href='vscode-notebook-cell:/Users/pietro/Desktop/dbf2csv/temporal_lz_%20structure.ipynb#ch0000003?line=4'>5</a>\u001b[0m     \u001b[39mprint\u001b[39m(dbf)\n",
      "File \u001b[0;32m~/opt/anaconda3/envs/bdm_project/lib/python3.9/site-packages/dbfread/dbf.py:123\u001b[0m, in \u001b[0;36mDBF.__init__\u001b[0;34m(self, filename, encoding, ignorecase, lowernames, parserclass, recfactory, load, raw, ignore_missing_memofile, char_decode_errors)\u001b[0m\n\u001b[1;32m    <a href='file:///Users/pietro/opt/anaconda3/envs/bdm_project/lib/python3.9/site-packages/dbfread/dbf.py?line=120'>121</a>\u001b[0m \u001b[39mself\u001b[39m\u001b[39m.\u001b[39m_read_header(infile)\n\u001b[1;32m    <a href='file:///Users/pietro/opt/anaconda3/envs/bdm_project/lib/python3.9/site-packages/dbfread/dbf.py?line=121'>122</a>\u001b[0m \u001b[39mself\u001b[39m\u001b[39m.\u001b[39m_read_field_headers(infile)\n\u001b[0;32m--> <a href='file:///Users/pietro/opt/anaconda3/envs/bdm_project/lib/python3.9/site-packages/dbfread/dbf.py?line=122'>123</a>\u001b[0m \u001b[39mself\u001b[39;49m\u001b[39m.\u001b[39;49m_check_headers()\n\u001b[1;32m    <a href='file:///Users/pietro/opt/anaconda3/envs/bdm_project/lib/python3.9/site-packages/dbfread/dbf.py?line=124'>125</a>\u001b[0m \u001b[39mtry\u001b[39;00m:\n\u001b[1;32m    <a href='file:///Users/pietro/opt/anaconda3/envs/bdm_project/lib/python3.9/site-packages/dbfread/dbf.py?line=125'>126</a>\u001b[0m     \u001b[39mself\u001b[39m\u001b[39m.\u001b[39mdate \u001b[39m=\u001b[39m datetime\u001b[39m.\u001b[39mdate(expand_year(\u001b[39mself\u001b[39m\u001b[39m.\u001b[39mheader\u001b[39m.\u001b[39myear),\n\u001b[1;32m    <a href='file:///Users/pietro/opt/anaconda3/envs/bdm_project/lib/python3.9/site-packages/dbfread/dbf.py?line=126'>127</a>\u001b[0m                               \u001b[39mself\u001b[39m\u001b[39m.\u001b[39mheader\u001b[39m.\u001b[39mmonth,\n\u001b[1;32m    <a href='file:///Users/pietro/opt/anaconda3/envs/bdm_project/lib/python3.9/site-packages/dbfread/dbf.py?line=127'>128</a>\u001b[0m                               \u001b[39mself\u001b[39m\u001b[39m.\u001b[39mheader\u001b[39m.\u001b[39mday)\n",
      "File \u001b[0;32m~/opt/anaconda3/envs/bdm_project/lib/python3.9/site-packages/dbfread/dbf.py:265\u001b[0m, in \u001b[0;36mDBF._check_headers\u001b[0;34m(self)\u001b[0m\n\u001b[1;32m    <a href='file:///Users/pietro/opt/anaconda3/envs/bdm_project/lib/python3.9/site-packages/dbfread/dbf.py?line=260'>261</a>\u001b[0m     \u001b[39mraise\u001b[39;00m \u001b[39mValueError\u001b[39;00m(message\u001b[39m.\u001b[39mformat(field\u001b[39m.\u001b[39mlength))\n\u001b[1;32m    <a href='file:///Users/pietro/opt/anaconda3/envs/bdm_project/lib/python3.9/site-packages/dbfread/dbf.py?line=262'>263</a>\u001b[0m \u001b[39melif\u001b[39;00m \u001b[39mnot\u001b[39;00m field_parser\u001b[39m.\u001b[39mfield_type_supported(field\u001b[39m.\u001b[39mtype):\n\u001b[1;32m    <a href='file:///Users/pietro/opt/anaconda3/envs/bdm_project/lib/python3.9/site-packages/dbfread/dbf.py?line=263'>264</a>\u001b[0m     \u001b[39m# Todo: return as byte string?\u001b[39;00m\n\u001b[0;32m--> <a href='file:///Users/pietro/opt/anaconda3/envs/bdm_project/lib/python3.9/site-packages/dbfread/dbf.py?line=264'>265</a>\u001b[0m     \u001b[39mraise\u001b[39;00m \u001b[39mValueError\u001b[39;00m(\u001b[39m'\u001b[39m\u001b[39mUnknown field type: \u001b[39m\u001b[39m{!r}\u001b[39;00m\u001b[39m'\u001b[39m\u001b[39m.\u001b[39mformat(field\u001b[39m.\u001b[39mtype))\n",
      "\u001b[0;31mValueError\u001b[0m: Unknown field type: ','"
     ]
    }
   ],
   "source": [
    "i = -1\n",
    "for dbf in dbfs:\n",
    "    db = DBF(path_peru+'/dbf/'+dbf, encoding='latin-1')\n",
    "    df = pd.DataFrame(db) # passing to dataframe\n",
    "    print(dbf)\n",
    "    i = i + 1\n",
    "    print(i)\n",
    "    # the files are now divided btw imp and exp, depending on the starting character\n",
    "    if csv_names[i][0] == 'x':\n",
    "        df.to_csv(path_peru+'/csv/exp/'+csv_names[i]) # save the csv in exp\n",
    "        print('converted into '+csv_names[i]+ ' in exp')\n",
    "    elif csv_names[i][0] == 'm':\n",
    "        df.to_csv(path_peru+'/csv/imp/'+csv_names[i]) # save the csv in imp\n",
    "        print('converted into '+csv_names[i]+ ' in imp')\n",
    "    else:\n",
    "        df.to_csv(path_peru+'/dbf/'+csv_names[i])\n",
    "        print('WARNING: the name of the file has not been recognised. It has been saved in /dbf')\n"
   ]
  },
  {
   "cell_type": "markdown",
   "metadata": {},
   "source": [
    "**Without passing throw DataFrame**"
   ]
  },
  {
   "cell_type": "code",
   "execution_count": 17,
   "metadata": {},
   "outputs": [
    {
     "name": "stdout",
     "output_type": "stream",
     "text": [
      "0\n",
      "ma21270222.csv\n",
      "converted into ma21270222.csv in imp\n",
      "1\n",
      "ma07130222.csv\n",
      "converted into ma07130222.csv in imp\n",
      "2\n",
      "ma31060222.csv\n",
      "converted into ma31060222.csv in imp\n",
      "3\n",
      "ma24300122.csv\n",
      "converted into ma24300122.csv in imp\n",
      "4\n",
      "ma07130322.csv\n",
      "converted into ma07130322.csv in imp\n",
      "5\n",
      "ma17230122.csv\n",
      "converted into ma17230122.csv in imp\n",
      "6\n",
      "ma21270322.csv\n",
      "converted into ma21270322.csv in imp\n",
      "7\n",
      "ma28060322.csv\n",
      "converted into ma28060322.csv in imp\n",
      "8\n",
      "ma14200222.csv\n",
      "converted into ma14200222.csv in imp\n",
      "9\n",
      "ma14200322.csv\n",
      "converted into ma14200322.csv in imp\n"
     ]
    },
    {
     "ename": "DBFNotFound",
     "evalue": "could not find file '/Users/pietro/Desktop/BDM/Project/Data.nosync/peru/dbf/ma21270222.csv'",
     "output_type": "error",
     "traceback": [
      "\u001b[0;31m---------------------------------------------------------------------------\u001b[0m",
      "\u001b[0;31mDBFNotFound\u001b[0m                               Traceback (most recent call last)",
      "\u001b[1;32m/Users/pietro/Desktop/dbf2csv/temporal_lz_ structure.ipynb Cell 8'\u001b[0m in \u001b[0;36m<cell line: 11>\u001b[0;34m()\u001b[0m\n\u001b[1;32m     <a href='vscode-notebook-cell:/Users/pietro/Desktop/dbf2csv/temporal_lz_%20structure.ipynb#ch0000011?line=9'>10</a>\u001b[0m i \u001b[39m=\u001b[39m \u001b[39m0\u001b[39m\n\u001b[1;32m     <a href='vscode-notebook-cell:/Users/pietro/Desktop/dbf2csv/temporal_lz_%20structure.ipynb#ch0000011?line=10'>11</a>\u001b[0m \u001b[39mfor\u001b[39;00m dbf \u001b[39min\u001b[39;00m dbfs:\n\u001b[0;32m---> <a href='vscode-notebook-cell:/Users/pietro/Desktop/dbf2csv/temporal_lz_%20structure.ipynb#ch0000011?line=11'>12</a>\u001b[0m     dbf \u001b[39m=\u001b[39m DBF(path_peru\u001b[39m+\u001b[39;49m\u001b[39m'\u001b[39;49m\u001b[39m/dbf/\u001b[39;49m\u001b[39m'\u001b[39;49m\u001b[39m+\u001b[39;49mdbf, encoding\u001b[39m=\u001b[39;49m\u001b[39m'\u001b[39;49m\u001b[39mlatin-1\u001b[39;49m\u001b[39m'\u001b[39;49m)\n\u001b[1;32m     <a href='vscode-notebook-cell:/Users/pietro/Desktop/dbf2csv/temporal_lz_%20structure.ipynb#ch0000011?line=12'>13</a>\u001b[0m     \u001b[39mprint\u001b[39m(i)\n\u001b[1;32m     <a href='vscode-notebook-cell:/Users/pietro/Desktop/dbf2csv/temporal_lz_%20structure.ipynb#ch0000011?line=13'>14</a>\u001b[0m     \u001b[39mprint\u001b[39m(csv_names[i])\n",
      "File \u001b[0;32m~/opt/anaconda3/envs/bdm_project/lib/python3.9/site-packages/dbfread/dbf.py:110\u001b[0m, in \u001b[0;36mDBF.__init__\u001b[0;34m(self, filename, encoding, ignorecase, lowernames, parserclass, recfactory, load, raw, ignore_missing_memofile, char_decode_errors)\u001b[0m\n\u001b[1;32m    <a href='file:///Users/pietro/opt/anaconda3/envs/bdm_project/lib/python3.9/site-packages/dbfread/dbf.py?line=107'>108</a>\u001b[0m     \u001b[39mself\u001b[39m\u001b[39m.\u001b[39mfilename \u001b[39m=\u001b[39m ifind(filename)\n\u001b[1;32m    <a href='file:///Users/pietro/opt/anaconda3/envs/bdm_project/lib/python3.9/site-packages/dbfread/dbf.py?line=108'>109</a>\u001b[0m     \u001b[39mif\u001b[39;00m \u001b[39mnot\u001b[39;00m \u001b[39mself\u001b[39m\u001b[39m.\u001b[39mfilename:\n\u001b[0;32m--> <a href='file:///Users/pietro/opt/anaconda3/envs/bdm_project/lib/python3.9/site-packages/dbfread/dbf.py?line=109'>110</a>\u001b[0m         \u001b[39mraise\u001b[39;00m DBFNotFound(\u001b[39m'\u001b[39m\u001b[39mcould not find file \u001b[39m\u001b[39m{!r}\u001b[39;00m\u001b[39m'\u001b[39m\u001b[39m.\u001b[39mformat(filename))\n\u001b[1;32m    <a href='file:///Users/pietro/opt/anaconda3/envs/bdm_project/lib/python3.9/site-packages/dbfread/dbf.py?line=110'>111</a>\u001b[0m \u001b[39melse\u001b[39;00m:\n\u001b[1;32m    <a href='file:///Users/pietro/opt/anaconda3/envs/bdm_project/lib/python3.9/site-packages/dbfread/dbf.py?line=111'>112</a>\u001b[0m     \u001b[39mself\u001b[39m\u001b[39m.\u001b[39mfilename \u001b[39m=\u001b[39m filename\n",
      "\u001b[0;31mDBFNotFound\u001b[0m: could not find file '/Users/pietro/Desktop/BDM/Project/Data.nosync/peru/dbf/ma21270222.csv'"
     ]
    }
   ],
   "source": [
    "# function to convert a dbf into a csv\n",
    "def dbf2csv(dbf, csv_final):\n",
    "    table=dbf\n",
    "    csv_final = open(csv_final, 'w')\n",
    "    writer = csv.writer(csv_final)\n",
    "    writer.writerow(table.field_names)\n",
    "    for record in table:\n",
    "        writer.writerow(list(record.values()))\n",
    "    \n",
    "i = 0\n",
    "for dbf in dbfs:\n",
    "    dbf = DBF(path_peru+'/dbf/'+dbf, encoding='latin-1')\n",
    "    print(i)\n",
    "    print(csv_names[i])\n",
    "\n",
    "    # the files are now divided btw imp and exp, depending on the starting character\n",
    "\n",
    "    if csv_names[i][0] == 'x':\n",
    "        csv_path = path_peru+'/csv/exp/'+csv_names[i]\n",
    "        # create the empty file\n",
    "        with open(csv_path, \"w\") as my_empty_csv:\n",
    "            pass  # or write something to it already\n",
    "        dbf2csv(dbf, csv_path)\n",
    "        print('converted into '+csv_names[i]+ ' in exp')\n",
    "\n",
    "    elif csv_names[i][0] == 'm':\n",
    "        csv_path = path_peru+'/csv/imp/'+csv_names[i]# create the empty file\n",
    "        with open(csv_path, \"w\") as my_empty_csv:\n",
    "            pass  # or write something to it already\n",
    "        dbf2csv(dbf, csv_path)\n",
    "        print('converted into '+csv_names[i]+ ' in imp')\n",
    "\n",
    "    else:\n",
    "        csv_path = path_peru+'/dbf/'+csv_names[i]# create the empty file\n",
    "        with open(csv_path, \"w\") as my_empty_csv:\n",
    "            pass  # or write something to it already\n",
    "        dbf2csv(dbf, csv_path)\n",
    "        print('WARNING: the name of the file has not been recognised. It has been saved in /dbf')\n",
    "    i = i + 1\n"
   ]
  }
 ],
 "metadata": {
  "interpreter": {
   "hash": "7aebba27af0ad7a107eefb5f45c2c0e3b706889879721715298efbbae69258ec"
  },
  "kernelspec": {
   "display_name": "Python 3.9.7 ('bdm_project')",
   "language": "python",
   "name": "python3"
  },
  "language_info": {
   "codemirror_mode": {
    "name": "ipython",
    "version": 3
   },
   "file_extension": ".py",
   "mimetype": "text/x-python",
   "name": "python",
   "nbconvert_exporter": "python",
   "pygments_lexer": "ipython3",
   "version": "3.9.7"
  },
  "orig_nbformat": 4
 },
 "nbformat": 4,
 "nbformat_minor": 2
}
