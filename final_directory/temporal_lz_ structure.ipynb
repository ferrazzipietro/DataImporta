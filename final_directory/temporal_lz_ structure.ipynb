{
 "cells": [
  {
   "cell_type": "markdown",
   "metadata": {},
   "source": [
    "### **CREATING THE STRUCTUR OF THE TEMPORAL LANDING ZONE** "
   ]
  },
  {
   "cell_type": "markdown",
   "metadata": {},
   "source": [
    "\t/temporal\n",
    "\t\t/peru\n",
    "\t\t\t/imp\n",
    "\t\t\t\t/year\n",
    "\t\t\t/exp\n",
    "\t\t\t\t/year\n",
    "\t\t\t/metadata\n",
    "\t\t/chile\n",
    "\t\t\t/imp\n",
    "\t\t\t\t/year\n",
    "\t\t\t/exp\n",
    "\t\t\t\t/year\n",
    "\t\t\t/metadata\n",
    "\t\t\t\t/imp\n",
    "\t\t\t\t/exp\n",
    "\t\t/brazil\n",
    "\t\t\t/imp\n",
    "\t\t\t\t/year\n",
    "\t\t\t/exp\n",
    "\t\t\t\t/year\n",
    "\t\t\t/metadata\n",
    "\n"
   ]
  },
  {
   "cell_type": "code",
   "execution_count": 1,
   "metadata": {},
   "outputs": [],
   "source": [
    "import subprocess"
   ]
  },
  {
   "cell_type": "markdown",
   "metadata": {},
   "source": [
    "The connection should be already open."
   ]
  },
  {
   "cell_type": "code",
   "execution_count": 2,
   "metadata": {},
   "outputs": [
    {
     "name": "stderr",
     "output_type": "stream",
     "text": [
      "2022-03-30 19:43:13,537 WARN util.NativeCodeLoader: Unable to load native-hadoop library for your platform... using builtin-java classes where applicable\n"
     ]
    },
    {
     "data": {
      "text/plain": [
       "CompletedProcess(args='hadoop fs -mkdir /temporal', returncode=0)"
      ]
     },
     "execution_count": 2,
     "metadata": {},
     "output_type": "execute_result"
    }
   ],
   "source": [
    "# generate temporay directory\n",
    "\n",
    "subprocess.run('hadoop fs -mkdir /temporal', shell=True)\n"
   ]
  },
  {
   "cell_type": "markdown",
   "metadata": {},
   "source": [
    "Generate all the children"
   ]
  },
  {
   "cell_type": "code",
   "execution_count": 3,
   "metadata": {},
   "outputs": [
    {
     "name": "stderr",
     "output_type": "stream",
     "text": [
      "2022-03-30 19:43:14,401 WARN util.NativeCodeLoader: Unable to load native-hadoop library for your platform... using builtin-java classes where applicable\n",
      "2022-03-30 19:43:15,193 WARN util.NativeCodeLoader: Unable to load native-hadoop library for your platform... using builtin-java classes where applicable\n",
      "2022-03-30 19:43:15,923 WARN util.NativeCodeLoader: Unable to load native-hadoop library for your platform... using builtin-java classes where applicable\n",
      "2022-03-30 19:43:16,671 WARN util.NativeCodeLoader: Unable to load native-hadoop library for your platform... using builtin-java classes where applicable\n",
      "2022-03-30 19:43:17,443 WARN util.NativeCodeLoader: Unable to load native-hadoop library for your platform... using builtin-java classes where applicable\n",
      "2022-03-30 19:43:18,176 WARN util.NativeCodeLoader: Unable to load native-hadoop library for your platform... using builtin-java classes where applicable\n",
      "2022-03-30 19:43:18,892 WARN util.NativeCodeLoader: Unable to load native-hadoop library for your platform... using builtin-java classes where applicable\n",
      "2022-03-30 19:43:19,600 WARN util.NativeCodeLoader: Unable to load native-hadoop library for your platform... using builtin-java classes where applicable\n",
      "2022-03-30 19:43:20,332 WARN util.NativeCodeLoader: Unable to load native-hadoop library for your platform... using builtin-java classes where applicable\n",
      "2022-03-30 19:43:21,012 WARN util.NativeCodeLoader: Unable to load native-hadoop library for your platform... using builtin-java classes where applicable\n",
      "2022-03-30 19:43:21,719 WARN util.NativeCodeLoader: Unable to load native-hadoop library for your platform... using builtin-java classes where applicable\n",
      "2022-03-30 19:43:22,439 WARN util.NativeCodeLoader: Unable to load native-hadoop library for your platform... using builtin-java classes where applicable\n",
      "2022-03-30 19:43:23,164 WARN util.NativeCodeLoader: Unable to load native-hadoop library for your platform... using builtin-java classes where applicable\n",
      "2022-03-30 19:43:23,930 WARN util.NativeCodeLoader: Unable to load native-hadoop library for your platform... using builtin-java classes where applicable\n",
      "2022-03-30 19:43:24,661 WARN util.NativeCodeLoader: Unable to load native-hadoop library for your platform... using builtin-java classes where applicable\n",
      "2022-03-30 19:43:25,381 WARN util.NativeCodeLoader: Unable to load native-hadoop library for your platform... using builtin-java classes where applicable\n"
     ]
    }
   ],
   "source": [
    "# defining directories' names\n",
    "countries = ['peru', 'chile', 'brazil']\n",
    "sub_coun = ['imp', 'exp', 'metadata']\n",
    "# define is metadata contains subdirectories or directly files\n",
    "meta_sub_bool = [False, True, False]\n",
    "# iterator\n",
    "i = 0\n",
    "\n",
    "for country in countries:\n",
    "    \n",
    "    # generate new directory for the country\n",
    "    subprocess.run('hadoop fs -mkdir /temporal/'+country, shell=True)\n",
    "\n",
    "    # generating sub-country directories\n",
    "    for sub in sub_coun:\n",
    "        subprocess.run('hadoop fs -mkdir /temporal/'+country+'/'+sub, shell=True)\n",
    "        if sub == 'metadata' and meta_sub_bool[i]:\n",
    "            subprocess.run('hadoop fs -mkdir /temporal/'+country+'/'+sub+'/'+'exp', shell=True)\n",
    "            subprocess.run('hadoop fs -mkdir /temporal/'+country+'/'+sub+'/'+'imp', shell=True)\n",
    "    i =+ 1\n",
    "\n"
   ]
  }
 ],
 "metadata": {
  "interpreter": {
   "hash": "7aebba27af0ad7a107eefb5f45c2c0e3b706889879721715298efbbae69258ec"
  },
  "kernelspec": {
   "display_name": "Python 3.9.7 ('bdm_project')",
   "language": "python",
   "name": "python3"
  },
  "language_info": {
   "codemirror_mode": {
    "name": "ipython",
    "version": 3
   },
   "file_extension": ".py",
   "mimetype": "text/x-python",
   "name": "python",
   "nbconvert_exporter": "python",
   "pygments_lexer": "ipython3",
   "version": "3.9.7"
  },
  "orig_nbformat": 4
 },
 "nbformat": 4,
 "nbformat_minor": 2
}
