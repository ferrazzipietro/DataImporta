{
 "cells": [
  {
   "cell_type": "markdown",
   "metadata": {},
   "source": [
    "### **DATA COLLECTOR**"
   ]
  },
  {
   "cell_type": "markdown",
   "metadata": {},
   "source": [
    "Import necessary packages"
   ]
  },
  {
   "cell_type": "code",
   "execution_count": 3,
   "metadata": {},
   "outputs": [],
   "source": [
    "import subprocess\n",
    "import os\n",
    "import logging\n",
    "from datetime import datetime"
   ]
  },
  {
   "cell_type": "markdown",
   "metadata": {},
   "source": [
    "Path of data in local file system"
   ]
  },
  {
   "cell_type": "code",
   "execution_count": 4,
   "metadata": {},
   "outputs": [],
   "source": [
    "path = '/Users/pietro/Desktop/BDM/Project/Data.nosync/'"
   ]
  },
  {
   "cell_type": "markdown",
   "metadata": {},
   "source": [
    "Get the files to be loaded in the temporal landing zone (HDFS)"
   ]
  },
  {
   "cell_type": "code",
   "execution_count": 15,
   "metadata": {},
   "outputs": [
    {
     "ename": "FileNotFoundError",
     "evalue": "[Errno 2] No such file or directory: '/Users/pietro/Desktop/BDM/Project/Data.nosync/peru/csv/metadata'",
     "output_type": "error",
     "traceback": [
      "\u001b[0;31m---------------------------------------------------------------------------\u001b[0m",
      "\u001b[0;31mFileNotFoundError\u001b[0m                         Traceback (most recent call last)",
      "\u001b[1;32m/Users/pietro/Desktop/BDM/Project/DataImporta/ios/temporal_import.ipynb Cell 7'\u001b[0m in \u001b[0;36m<cell line: 12>\u001b[0;34m()\u001b[0m\n\u001b[1;32m     <a href='vscode-notebook-cell:/Users/pietro/Desktop/BDM/Project/DataImporta/ios/temporal_import.ipynb#ch0000006?line=9'>10</a>\u001b[0m PeruEXP2load \u001b[39m=\u001b[39m os\u001b[39m.\u001b[39mlistdir(path \u001b[39m+\u001b[39m \u001b[39m'\u001b[39m\u001b[39mperu/csv/exp\u001b[39m\u001b[39m'\u001b[39m)\n\u001b[1;32m     <a href='vscode-notebook-cell:/Users/pietro/Desktop/BDM/Project/DataImporta/ios/temporal_import.ipynb#ch0000006?line=10'>11</a>\u001b[0m PeruIMP2load \u001b[39m=\u001b[39m os\u001b[39m.\u001b[39mlistdir(path \u001b[39m+\u001b[39m \u001b[39m'\u001b[39m\u001b[39mperu/csv/imp\u001b[39m\u001b[39m'\u001b[39m)\n\u001b[0;32m---> <a href='vscode-notebook-cell:/Users/pietro/Desktop/BDM/Project/DataImporta/ios/temporal_import.ipynb#ch0000006?line=11'>12</a>\u001b[0m PeruMETA2load \u001b[39m=\u001b[39m os\u001b[39m.\u001b[39;49mlistdir(path \u001b[39m+\u001b[39;49m \u001b[39m'\u001b[39;49m\u001b[39mperu/csv/metadata\u001b[39;49m\u001b[39m'\u001b[39;49m)\n",
      "\u001b[0;31mFileNotFoundError\u001b[0m: [Errno 2] No such file or directory: '/Users/pietro/Desktop/BDM/Project/Data.nosync/peru/csv/metadata'"
     ]
    }
   ],
   "source": [
    "BrazilIMP2load = os.listdir(path + 'brazil/csv/imp')\n",
    "BrazilEXP2load = os.listdir(path + 'brazil/csv/exp')\n",
    "BrazilMETA2load = os.listdir(path + 'brazil/metadata')\n",
    "\n",
    "ChileIMP2load = os.listdir(path + 'chile/txt/imp')\n",
    "ChileEXP2load = os.listdir(path + 'chile/txt/exp')\n",
    "ChileMETAIMP2load = os.listdir(path + 'chile/metadata/imp')\n",
    "ChileMETAEXP2load = os.listdir(path + 'chile/metadata/exp')\n",
    "\n",
    "PeruEXP2load = os.listdir(path + 'peru/csv/exp')\n",
    "PeruIMP2load = os.listdir(path + 'peru/csv/imp')\n",
    "PeruMETA2load = os.listdir(path + 'peru/csv/metadata')"
   ]
  },
  {
   "cell_type": "markdown",
   "metadata": {},
   "source": [
    "Setup logfile"
   ]
  },
  {
   "cell_type": "code",
   "execution_count": 6,
   "metadata": {},
   "outputs": [],
   "source": [
    "logger = logging.getLogger()\n",
    "if (logger.hasHandlers()):\n",
    "    logger.handlers.clear()\n",
    "handler = logging.FileHandler('logfile.log')\n",
    "logger.addHandler(handler)"
   ]
  },
  {
   "cell_type": "markdown",
   "metadata": {},
   "source": [
    "**Load the files in the temporal landing zone**"
   ]
  },
  {
   "cell_type": "markdown",
   "metadata": {},
   "source": [
    "Brazil"
   ]
  },
  {
   "cell_type": "code",
   "execution_count": 51,
   "metadata": {},
   "outputs": [
    {
     "name": "stdout",
     "output_type": "stream",
     "text": [
      "CompletedProcess(args='hadoop fs -put /Users/pietro/Desktop/BDM/Project/Data.nosync/brazil/csv/imp/IMP_2022_NCMcsv.csv /temporal/brazil/imp', returncode=0, stdout=b'', stderr=b'2022-03-30 20:07:46,021 WARN util.NativeCodeLoader: Unable to load native-hadoop library for your platform... using builtin-java classes where applicable\\n')\n"
     ]
    }
   ],
   "source": [
    "for file in BrazilIMP2load:\n",
    "    \n",
    "    # Get time\n",
    "    time = datetime.now().strftime(\"%m/%d/%Y, %H:%M:%S\")\n",
    "\n",
    "    # Load data to HDFS from local filesystem\n",
    "    load_hdfs = subprocess.run('hadoop fs -put '+path+'brazil/csv/imp/'+file+ ' /temporal/brazil/imp', capture_output=True, shell=True)\n",
    "    print(load_hdfs)\n",
    "    # Remove data from local filesystem\n",
    "    try:\n",
    "        os.remove(path+'brazil/csv/imp/'+file)\n",
    "        delete_local = \" % s removed successfully from local filesystem /n\" % file\n",
    "    except OSError as error:\n",
    "        print(error)\n",
    "        delete_local = \" File path can not be removed /n\"\n",
    "\n",
    "    # Print outcomes\n",
    "    # print(load_hdfs)\n",
    "    # print(delete_local)\n",
    "\n",
    "    # Register in log\n",
    "    logger.error(time)\n",
    "    logger.error(load_hdfs)\n",
    "    logger.error(delete_local)\n",
    "\n",
    "    # change the name to the one of the version (using the date of load)\n",
    "    # update_version_name = subprocess.run('hadoop dfs -mv /user/input/Brazil/'+file+' /user/input/Brazil/'+datetime.now().strftime(\"%m_%d_%Y\"))"
   ]
  },
  {
   "cell_type": "code",
   "execution_count": 52,
   "metadata": {},
   "outputs": [
    {
     "name": "stdout",
     "output_type": "stream",
     "text": [
      "CompletedProcess(args='hadoop fs -put /Users/pietro/Desktop/BDM/Project/Data.nosync/brazil/csv/exp/EXP_2022_NCM.csv /temporal/brazil/exp', returncode=0, stdout=b'', stderr=b'2022-03-30 20:10:19,579 WARN util.NativeCodeLoader: Unable to load native-hadoop library for your platform... using builtin-java classes where applicable\\n')\n"
     ]
    }
   ],
   "source": [
    "for file in BrazilEXP2load:\n",
    "    \n",
    "    # Get time\n",
    "    time = datetime.now().strftime(\"%m/%d/%Y, %H:%M:%S\")\n",
    "\n",
    "    # Load data to HDFS from local filesystem\n",
    "    load_hdfs = subprocess.run('hadoop fs -put '+path+'brazil/csv/exp/'+file+ ' /temporal/brazil/exp', capture_output=True, shell=True)\n",
    "    print(load_hdfs)\n",
    "    # Remove data from local filesystem\n",
    "    try:\n",
    "        os.remove(path+'brazil/csv/exp/'+file)\n",
    "        delete_local = \" % s removed successfully from local filesystem /n\" % file\n",
    "    except OSError as error:\n",
    "        print(error)\n",
    "        delete_local = \" File path can not be removed /n\"\n",
    "\n",
    "    # Print outcomes\n",
    "    # print(load_hdfs)\n",
    "    # print(delete_local)\n",
    "\n",
    "    # Register in log\n",
    "    logger.error(time)\n",
    "    logger.error(load_hdfs)\n",
    "    logger.error(delete_local)\n",
    "\n",
    "    # change the name to the one of the version (using the date of load)\n",
    "    # update_version_name = subprocess.run('hadoop dfs -mv /user/input/Brazil/'+file+' /user/input/Brazil/'+datetime.now().strftime(\"%m_%d_%Y\"))\n",
    "\n",
    "\n"
   ]
  },
  {
   "cell_type": "code",
   "execution_count": 7,
   "metadata": {},
   "outputs": [
    {
     "name": "stdout",
     "output_type": "stream",
     "text": [
      "CompletedProcess(args='hadoop fs -put /Users/pietro/Desktop/BDM/Project/Data.nosync/brazil/metadata/CUCI.csv /temporal/brazil/metadata', returncode=0, stdout=b'', stderr=b'2022-03-30 20:37:47,407 WARN util.NativeCodeLoader: Unable to load native-hadoop library for your platform... using builtin-java classes where applicable\\n')\n",
      "CompletedProcess(args='hadoop fs -put /Users/pietro/Desktop/BDM/Project/Data.nosync/brazil/metadata/ISIC .csv /temporal/brazil/metadata', returncode=1, stdout=b'', stderr=b\"2022-03-30 20:37:48,286 WARN util.NativeCodeLoader: Unable to load native-hadoop library for your platform... using builtin-java classes where applicable\\nput: `/Users/pietro/Desktop/BDM/Project/Data.nosync/brazil/metadata/ISIC': No such file or directory\\nput: `.csv': No such file or directory\\n\")\n",
      "CompletedProcess(args='hadoop fs -put /Users/pietro/Desktop/BDM/Project/Data.nosync/brazil/metadata/TABELAS_AUXILIARES.xlsx /temporal/brazil/metadata', returncode=0, stdout=b'', stderr=b'2022-03-30 20:37:48,979 WARN util.NativeCodeLoader: Unable to load native-hadoop library for your platform... using builtin-java classes where applicable\\n')\n",
      "CompletedProcess(args='hadoop fs -put /Users/pietro/Desktop/BDM/Project/Data.nosync/brazil/metadata/NCM_FAT_AGREG.csv /temporal/brazil/metadata', returncode=0, stdout=b'', stderr=b'2022-03-30 20:37:49,786 WARN util.NativeCodeLoader: Unable to load native-hadoop library for your platform... using builtin-java classes where applicable\\n')\n",
      "CompletedProcess(args='hadoop fs -put /Users/pietro/Desktop/BDM/Project/Data.nosync/brazil/metadata/SH.csv /temporal/brazil/metadata', returncode=0, stdout=b'', stderr=b'2022-03-30 20:37:51,081 WARN util.NativeCodeLoader: Unable to load native-hadoop library for your platform... using builtin-java classes where applicable\\n')\n",
      "CompletedProcess(args='hadoop fs -put /Users/pietro/Desktop/BDM/Project/Data.nosync/brazil/metadata/MUN.csv /temporal/brazil/metadata', returncode=0, stdout=b'', stderr=b'2022-03-30 20:37:52,414 WARN util.NativeCodeLoader: Unable to load native-hadoop library for your platform... using builtin-java classes where applicable\\n')\n",
      "CompletedProcess(args='hadoop fs -put /Users/pietro/Desktop/BDM/Project/Data.nosync/brazil/metadata/Explanaiton Brasil.txt /temporal/brazil/metadata', returncode=1, stdout=b'', stderr=b\"2022-03-30 20:37:53,241 WARN util.NativeCodeLoader: Unable to load native-hadoop library for your platform... using builtin-java classes where applicable\\nput: `/Users/pietro/Desktop/BDM/Project/Data.nosync/brazil/metadata/Explanaiton': No such file or directory\\nput: `Brasil.txt': No such file or directory\\n\")\n",
      "CompletedProcess(args='hadoop fs -put /Users/pietro/Desktop/BDM/Project/Data.nosync/brazil/metadata/NCM_PPE.csv /temporal/brazil/metadata', returncode=0, stdout=b'', stderr=b'2022-03-30 20:37:53,929 WARN util.NativeCodeLoader: Unable to load native-hadoop library for your platform... using builtin-java classes where applicable\\n')\n",
      "CompletedProcess(args='hadoop fs -put /Users/pietro/Desktop/BDM/Project/Data.nosync/brazil/metadata/NCM.csv /temporal/brazil/metadata', returncode=0, stdout=b'', stderr=b'2022-03-30 20:37:55,170 WARN util.NativeCodeLoader: Unable to load native-hadoop library for your platform... using builtin-java classes where applicable\\n')\n",
      "CompletedProcess(args='hadoop fs -put /Users/pietro/Desktop/BDM/Project/Data.nosync/brazil/metadata/PAIS.csv /temporal/brazil/metadata', returncode=0, stdout=b'', stderr=b'2022-03-30 20:37:56,444 WARN util.NativeCodeLoader: Unable to load native-hadoop library for your platform... using builtin-java classes where applicable\\n')\n",
      "CompletedProcess(args='hadoop fs -put /Users/pietro/Desktop/BDM/Project/Data.nosync/brazil/metadata/UF.csv /temporal/brazil/metadata', returncode=0, stdout=b'', stderr=b'2022-03-30 20:37:57,699 WARN util.NativeCodeLoader: Unable to load native-hadoop library for your platform... using builtin-java classes where applicable\\n')\n"
     ]
    }
   ],
   "source": [
    "for file in BrazilMETA2load:\n",
    "    \n",
    "    # Get time\n",
    "    time = datetime.now().strftime(\"%m/%d/%Y, %H:%M:%S\")\n",
    "\n",
    "    # Load data to HDFS from local filesystem\n",
    "    load_hdfs = subprocess.run('hadoop fs -put '+path+'brazil/metadata/'+file+ ' /temporal/brazil/metadata', capture_output=True, shell=True)\n",
    "    print(load_hdfs)\n",
    "    # Remove data from local filesystem\n",
    "    try:\n",
    "        os.remove(path+'brazil/metadata/'+file)\n",
    "        delete_local = \" % s removed successfully from local filesystem /n\" % file\n",
    "    except OSError as error:\n",
    "        print(error)\n",
    "        delete_local = \" File path can not be removed /n\"\n",
    "\n",
    "    # Print outcomes\n",
    "    # print(load_hdfs)\n",
    "    # print(delete_local)\n",
    "\n",
    "    # Register in log\n",
    "    logger.error(time)\n",
    "    logger.error(load_hdfs)\n",
    "    logger.error(delete_local)\n"
   ]
  },
  {
   "cell_type": "markdown",
   "metadata": {},
   "source": [
    "Perù"
   ]
  },
  {
   "cell_type": "code",
   "execution_count": 53,
   "metadata": {},
   "outputs": [],
   "source": [
    "for file in PeruIMP2load:\n",
    "    \n",
    "    # Get time\n",
    "    time = datetime.now().strftime(\"%m/%d/%Y, %H:%M:%S\")\n",
    "\n",
    "    # Load data to HDFS from local filesystem\n",
    "    load_hdfs = subprocess.run('hadoop fs -put '+path+'peru/csv/imp/'+file+ ' /temporal/peru/imp', capture_output=True, shell=True)\n",
    "    print(load_hdfs)\n",
    "    # Remove data from local filesystem\n",
    "    try:\n",
    "        os.remove(path+'peru/csv/imp/'+file)\n",
    "        delete_local = \" % s removed successfully from local filesystem /n\" % file\n",
    "    except OSError as error:\n",
    "        print(error)\n",
    "        delete_local = \" File path can not be removed /n\"\n",
    "\n",
    "    # Print outcomes\n",
    "    # print(load_hdfs)\n",
    "    # print(delete_local)\n",
    "\n",
    "    # Register in log\n",
    "    logger.error(time)\n",
    "    logger.error(load_hdfs)\n",
    "    logger.error(delete_local)\n",
    "\n",
    "    # change the name to the one of the version (using the date of load)\n",
    "    # update_version_name = subprocess.run('hadoop dfs -mv /user/input/Brazil/'+file+' /user/input/Brazil/'+datetime.now().strftime(\"%m_%d_%Y\"))\n"
   ]
  },
  {
   "cell_type": "code",
   "execution_count": 54,
   "metadata": {},
   "outputs": [
    {
     "name": "stdout",
     "output_type": "stream",
     "text": [
      "CompletedProcess(args='hadoop fs -put /Users/pietro/Desktop/BDM/Project/Data.nosync/peru/csv/exp/x21270222.csv /temporal/peru/exp', returncode=0, stdout=b'', stderr=b'2022-03-30 20:11:51,814 WARN util.NativeCodeLoader: Unable to load native-hadoop library for your platform... using builtin-java classes where applicable\\n')\n",
      "CompletedProcess(args='hadoop fs -put /Users/pietro/Desktop/BDM/Project/Data.nosync/peru/csv/exp/x07130222.csv /temporal/peru/exp', returncode=0, stdout=b'', stderr=b'2022-03-30 20:11:52,816 WARN util.NativeCodeLoader: Unable to load native-hadoop library for your platform... using builtin-java classes where applicable\\n')\n",
      "CompletedProcess(args='hadoop fs -put /Users/pietro/Desktop/BDM/Project/Data.nosync/peru/csv/exp/x31060222.csv /temporal/peru/exp', returncode=0, stdout=b'', stderr=b'2022-03-30 20:11:54,119 WARN util.NativeCodeLoader: Unable to load native-hadoop library for your platform... using builtin-java classes where applicable\\n')\n",
      "CompletedProcess(args='hadoop fs -put /Users/pietro/Desktop/BDM/Project/Data.nosync/peru/csv/exp/x24300122.csv /temporal/peru/exp', returncode=0, stdout=b'', stderr=b'2022-03-30 20:11:55,025 WARN util.NativeCodeLoader: Unable to load native-hadoop library for your platform... using builtin-java classes where applicable\\n')\n",
      "CompletedProcess(args='hadoop fs -put /Users/pietro/Desktop/BDM/Project/Data.nosync/peru/csv/exp/x17230122.csv /temporal/peru/exp', returncode=0, stdout=b'', stderr=b'2022-03-30 20:11:55,878 WARN util.NativeCodeLoader: Unable to load native-hadoop library for your platform... using builtin-java classes where applicable\\n')\n",
      "CompletedProcess(args='hadoop fs -put /Users/pietro/Desktop/BDM/Project/Data.nosync/peru/csv/exp/x28060322.csv /temporal/peru/exp', returncode=0, stdout=b'', stderr=b'2022-03-30 20:11:57,232 WARN util.NativeCodeLoader: Unable to load native-hadoop library for your platform... using builtin-java classes where applicable\\n')\n",
      "CompletedProcess(args='hadoop fs -put /Users/pietro/Desktop/BDM/Project/Data.nosync/peru/csv/exp/x14200222.csv /temporal/peru/exp', returncode=0, stdout=b'', stderr=b'2022-03-30 20:11:58,523 WARN util.NativeCodeLoader: Unable to load native-hadoop library for your platform... using builtin-java classes where applicable\\n')\n"
     ]
    }
   ],
   "source": [
    "for file in PeruEXP2load:\n",
    "    \n",
    "    # Get time\n",
    "    time = datetime.now().strftime(\"%m/%d/%Y, %H:%M:%S\")\n",
    "\n",
    "    # Load data to HDFS from local filesystem\n",
    "    load_hdfs = subprocess.run('hadoop fs -put '+path+'peru/csv/exp/'+file+ ' /temporal/peru/exp', capture_output=True, shell=True)\n",
    "    print(load_hdfs)\n",
    "    # Remove data from local filesystem\n",
    "    try:\n",
    "        os.remove(path+'peru/csv/exp/'+file)\n",
    "        delete_local = \" % s removed successfully from local filesystem /n\" % file\n",
    "    except OSError as error:\n",
    "        print(error)\n",
    "        delete_local = \" File path can not be removed /n\"\n",
    "\n",
    "    # Print outcomes\n",
    "    # print(load_hdfs)\n",
    "    # print(delete_local)\n",
    "\n",
    "    # Register in log\n",
    "    logger.error(time)\n",
    "    logger.error(load_hdfs)\n",
    "    logger.error(delete_local)\n",
    "\n",
    "    # change the name to the one of the version (using the date of load)\n",
    "    # update_version_name = subprocess.run('hadoop dfs -mv /user/input/Brazil/'+file+' /user/input/Brazil/'+datetime.now().strftime(\"%m_%d_%Y\"))\n"
   ]
  },
  {
   "cell_type": "code",
   "execution_count": 10,
   "metadata": {},
   "outputs": [
    {
     "name": "stdout",
     "output_type": "stream",
     "text": [
      "CompletedProcess(args='hadoop fs -put /Users/pietro/Desktop/BDM/Project/Data.nosync/peru/metadata/Puertos.txt /temporal/peru/metadata', returncode=0, stdout=b'', stderr=b'2022-03-30 20:41:13,796 WARN util.NativeCodeLoader: Unable to load native-hadoop library for your platform... using builtin-java classes where applicable\\n')\n",
      "CompletedProcess(args='hadoop fs -put /Users/pietro/Desktop/BDM/Project/Data.nosync/peru/metadata/RegOpeAduaneras.txt /temporal/peru/metadata', returncode=0, stdout=b'', stderr=b'2022-03-30 20:41:14,711 WARN util.NativeCodeLoader: Unable to load native-hadoop library for your platform... using builtin-java classes where applicable\\n')\n",
      "CompletedProcess(args='hadoop fs -put /Users/pietro/Desktop/BDM/Project/Data.nosync/peru/metadata/Documento.txt /temporal/peru/metadata', returncode=0, stdout=b'', stderr=b'2022-03-30 20:41:15,677 WARN util.NativeCodeLoader: Unable to load native-hadoop library for your platform... using builtin-java classes where applicable\\n')\n",
      "CompletedProcess(args='hadoop fs -put /Users/pietro/Desktop/BDM/Project/Data.nosync/peru/metadata/procedimiento.doc /temporal/peru/metadata', returncode=0, stdout=b'', stderr=b'2022-03-30 20:41:16,935 WARN util.NativeCodeLoader: Unable to load native-hadoop library for your platform... using builtin-java classes where applicable\\n')\n",
      "CompletedProcess(args='hadoop fs -put /Users/pietro/Desktop/BDM/Project/Data.nosync/peru/metadata/Sanciones.txt /temporal/peru/metadata', returncode=0, stdout=b'', stderr=b'2022-03-30 20:41:18,300 WARN util.NativeCodeLoader: Unable to load native-hadoop library for your platform... using builtin-java classes where applicable\\n')\n",
      "CompletedProcess(args='hadoop fs -put /Users/pietro/Desktop/BDM/Project/Data.nosync/peru/metadata/.DS_Store /temporal/peru/metadata', returncode=0, stdout=b'', stderr=b'2022-03-30 20:41:19,144 WARN util.NativeCodeLoader: Unable to load native-hadoop library for your platform... using builtin-java classes where applicable\\n')\n",
      "CompletedProcess(args='hadoop fs -put /Users/pietro/Desktop/BDM/Project/Data.nosync/peru/metadata/AgenNav.txt /temporal/peru/metadata', returncode=0, stdout=b'', stderr=b'2022-03-30 20:41:20,412 WARN util.NativeCodeLoader: Unable to load native-hadoop library for your platform... using builtin-java classes where applicable\\n')\n",
      "CompletedProcess(args='hadoop fs -put /Users/pietro/Desktop/BDM/Project/Data.nosync/peru/metadata/EmpNacional.txt /temporal/peru/metadata', returncode=0, stdout=b'', stderr=b'2022-03-30 20:41:21,681 WARN util.NativeCodeLoader: Unable to load native-hadoop library for your platform... using builtin-java classes where applicable\\n')\n",
      "CompletedProcess(args='hadoop fs -put /Users/pietro/Desktop/BDM/Project/Data.nosync/peru/metadata/MerExpTemp.txt /temporal/peru/metadata', returncode=0, stdout=b'', stderr=b'2022-03-30 20:41:22,948 WARN util.NativeCodeLoader: Unable to load native-hadoop library for your platform... using builtin-java classes where applicable\\n')\n",
      "CompletedProcess(args='hadoop fs -put /Users/pietro/Desktop/BDM/Project/Data.nosync/peru/metadata/Agente.txt /temporal/peru/metadata', returncode=0, stdout=b'', stderr=b'2022-03-30 20:41:24,213 WARN util.NativeCodeLoader: Unable to load native-hadoop library for your platform... using builtin-java classes where applicable\\n')\n",
      "CompletedProcess(args='hadoop fs -put /Users/pietro/Desktop/BDM/Project/Data.nosync/peru/metadata/AgenMar.txt /temporal/peru/metadata', returncode=0, stdout=b'', stderr=b'2022-03-30 20:41:25,529 WARN util.NativeCodeLoader: Unable to load native-hadoop library for your platform... using builtin-java classes where applicable\\n')\n",
      "CompletedProcess(args='hadoop fs -put /Users/pietro/Desktop/BDM/Project/Data.nosync/peru/metadata/Tablibe.txt /temporal/peru/metadata', returncode=0, stdout=b'', stderr=b'2022-03-30 20:41:26,774 WARN util.NativeCodeLoader: Unable to load native-hadoop library for your platform... using builtin-java classes where applicable\\n')\n",
      "CompletedProcess(args='hadoop fs -put /Users/pietro/Desktop/BDM/Project/Data.nosync/peru/metadata/EstMercancia.txt /temporal/peru/metadata', returncode=0, stdout=b'', stderr=b'2022-03-30 20:41:27,619 WARN util.NativeCodeLoader: Unable to load native-hadoop library for your platform... using builtin-java classes where applicable\\n')\n",
      "CompletedProcess(args='hadoop fs -put /Users/pietro/Desktop/BDM/Project/Data.nosync/peru/metadata/UnidComerExp.txt /temporal/peru/metadata', returncode=0, stdout=b'', stderr=b'2022-03-30 20:41:28,965 WARN util.NativeCodeLoader: Unable to load native-hadoop library for your platform... using builtin-java classes where applicable\\n')\n",
      "CompletedProcess(args='hadoop fs -put /Users/pietro/Desktop/BDM/Project/Data.nosync/peru/metadata/RecintAduaner.txt /temporal/peru/metadata', returncode=0, stdout=b'', stderr=b'2022-03-30 20:41:30,287 WARN util.NativeCodeLoader: Unable to load native-hadoop library for your platform... using builtin-java classes where applicable\\n')\n",
      "CompletedProcess(args='hadoop fs -put /Users/pietro/Desktop/BDM/Project/Data.nosync/peru/metadata/UnidMercancia.txt /temporal/peru/metadata', returncode=0, stdout=b'', stderr=b'2022-03-30 20:41:31,561 WARN util.NativeCodeLoader: Unable to load native-hadoop library for your platform... using builtin-java classes where applicable\\n')\n",
      "CompletedProcess(args='hadoop fs -put /Users/pietro/Desktop/BDM/Project/Data.nosync/peru/metadata/EntAutMerRest.txt /temporal/peru/metadata', returncode=0, stdout=b'', stderr=b'2022-03-30 20:41:32,812 WARN util.NativeCodeLoader: Unable to load native-hadoop library for your platform... using builtin-java classes where applicable\\n')\n",
      "CompletedProcess(args='hadoop fs -put /Users/pietro/Desktop/BDM/Project/Data.nosync/peru/metadata/estructura_bases.xls /temporal/peru/metadata', returncode=0, stdout=b'', stderr=b'2022-03-30 20:41:33,658 WARN util.NativeCodeLoader: Unable to load native-hadoop library for your platform... using builtin-java classes where applicable\\n')\n",
      "CompletedProcess(args='hadoop fs -put /Users/pietro/Desktop/BDM/Project/Data.nosync/peru/metadata/Bancos.txt /temporal/peru/metadata', returncode=0, stdout=b'', stderr=b'2022-03-30 20:41:34,884 WARN util.NativeCodeLoader: Unable to load native-hadoop library for your platform... using builtin-java classes where applicable\\n')\n",
      "CompletedProcess(args='hadoop fs -put /Users/pietro/Desktop/BDM/Project/Data.nosync/peru/metadata/Monedas.txt /temporal/peru/metadata', returncode=0, stdout=b'', stderr=b'2022-03-30 20:41:36,283 WARN util.NativeCodeLoader: Unable to load native-hadoop library for your platform... using builtin-java classes where applicable\\n')\n",
      "CompletedProcess(args='hadoop fs -put /Users/pietro/Desktop/BDM/Project/Data.nosync/peru/metadata/AgenCar.txt /temporal/peru/metadata', returncode=0, stdout=b'', stderr=b'2022-03-30 20:41:37,644 WARN util.NativeCodeLoader: Unable to load native-hadoop library for your platform... using builtin-java classes where applicable\\n')\n",
      "CompletedProcess(args='hadoop fs -put /Users/pietro/Desktop/BDM/Project/Data.nosync/peru/metadata/UnidMedida.txt /temporal/peru/metadata', returncode=0, stdout=b'', stderr=b'2022-03-30 20:41:38,920 WARN util.NativeCodeLoader: Unable to load native-hadoop library for your platform... using builtin-java classes where applicable\\n')\n",
      "CompletedProcess(args='hadoop fs -put /Users/pietro/Desktop/BDM/Project/Data.nosync/peru/metadata/TipDocumAutMerRest.txt /temporal/peru/metadata', returncode=0, stdout=b'', stderr=b'2022-03-30 20:41:40,153 WARN util.NativeCodeLoader: Unable to load native-hadoop library for your platform... using builtin-java classes where applicable\\n')\n",
      "CompletedProcess(args='hadoop fs -put /Users/pietro/Desktop/BDM/Project/Data.nosync/peru/metadata/AgenEmb.txt /temporal/peru/metadata', returncode=0, stdout=b'', stderr=b'2022-03-30 20:41:41,364 WARN util.NativeCodeLoader: Unable to load native-hadoop library for your platform... using builtin-java classes where applicable\\n')\n",
      "CompletedProcess(args='hadoop fs -put /Users/pietro/Desktop/BDM/Project/Data.nosync/peru/metadata/EmpInternac.txt /temporal/peru/metadata', returncode=0, stdout=b'', stderr=b'2022-03-30 20:41:42,629 WARN util.NativeCodeLoader: Unable to load native-hadoop library for your platform... using builtin-java classes where applicable\\n')\n",
      "CompletedProcess(args='hadoop fs -put /Users/pietro/Desktop/BDM/Project/Data.nosync/peru/metadata/LinAereasManif.txt /temporal/peru/metadata', returncode=0, stdout=b'', stderr=b'2022-03-30 20:41:43,830 WARN util.NativeCodeLoader: Unable to load native-hadoop library for your platform... using builtin-java classes where applicable\\n')\n",
      "CompletedProcess(args='hadoop fs -put /Users/pietro/Desktop/BDM/Project/Data.nosync/peru/metadata/CodProvS.txt /temporal/peru/metadata', returncode=0, stdout=b'', stderr=b'2022-03-30 20:41:44,642 WARN util.NativeCodeLoader: Unable to load native-hadoop library for your platform... using builtin-java classes where applicable\\n')\n",
      "CompletedProcess(args='hadoop fs -put /Users/pietro/Desktop/BDM/Project/Data.nosync/peru/metadata/MedTransporte.txt /temporal/peru/metadata', returncode=0, stdout=b'', stderr=b'2022-03-30 20:41:45,876 WARN util.NativeCodeLoader: Unable to load native-hadoop library for your platform... using builtin-java classes where applicable\\n')\n",
      "CompletedProcess(args='hadoop fs -put /Users/pietro/Desktop/BDM/Project/Data.nosync/peru/metadata/Paises.txt /temporal/peru/metadata', returncode=0, stdout=b'', stderr=b'2022-03-30 20:41:47,118 WARN util.NativeCodeLoader: Unable to load native-hadoop library for your platform... using builtin-java classes where applicable\\n')\n",
      "CompletedProcess(args='hadoop fs -put /Users/pietro/Desktop/BDM/Project/Data.nosync/peru/metadata/codprov.txt /temporal/peru/metadata', returncode=0, stdout=b'', stderr=b'2022-03-30 20:41:48,371 WARN util.NativeCodeLoader: Unable to load native-hadoop library for your platform... using builtin-java classes where applicable\\n')\n",
      "CompletedProcess(args='hadoop fs -put /Users/pietro/Desktop/BDM/Project/Data.nosync/peru/metadata/MotValorAjust.txt /temporal/peru/metadata', returncode=0, stdout=b'', stderr=b'2022-03-30 20:41:49,595 WARN util.NativeCodeLoader: Unable to load native-hadoop library for your platform... using builtin-java classes where applicable\\n')\n",
      "CompletedProcess(args='hadoop fs -put /Users/pietro/Desktop/BDM/Project/Data.nosync/peru/metadata/TipUltract.txt /temporal/peru/metadata', returncode=0, stdout=b'', stderr=b'2022-03-30 20:41:50,465 WARN util.NativeCodeLoader: Unable to load native-hadoop library for your platform... using builtin-java classes where applicable\\n')\n",
      "CompletedProcess(args='hadoop fs -put /Users/pietro/Desktop/BDM/Project/Data.nosync/peru/metadata/Aduanas.txt /temporal/peru/metadata', returncode=0, stdout=b'', stderr=b'2022-03-30 20:41:51,789 WARN util.NativeCodeLoader: Unable to load native-hadoop library for your platform... using builtin-java classes where applicable\\n')\n",
      "CompletedProcess(args='hadoop fs -put /Users/pietro/Desktop/BDM/Project/Data.nosync/peru/metadata/Aerolineas.txt /temporal/peru/metadata', returncode=0, stdout=b'', stderr=b'2022-03-30 20:41:53,047 WARN util.NativeCodeLoader: Unable to load native-hadoop library for your platform... using builtin-java classes where applicable\\n')\n",
      "CompletedProcess(args='hadoop fs -put /Users/pietro/Desktop/BDM/Project/Data.nosync/peru/metadata/Tributos.txt /temporal/peru/metadata', returncode=0, stdout=b'', stderr=b'2022-03-30 20:41:53,874 WARN util.NativeCodeLoader: Unable to load native-hadoop library for your platform... using builtin-java classes where applicable\\n')\n",
      "CompletedProcess(args='hadoop fs -put /Users/pietro/Desktop/BDM/Project/Data.nosync/peru/metadata/TipTratamiento.txt /temporal/peru/metadata', returncode=0, stdout=b'', stderr=b'2022-03-30 20:41:55,189 WARN util.NativeCodeLoader: Unable to load native-hadoop library for your platform... using builtin-java classes where applicable\\n')\n"
     ]
    }
   ],
   "source": [
    "for file in PeruMETA2load:\n",
    "    \n",
    "    # Get time\n",
    "    time = datetime.now().strftime(\"%m/%d/%Y, %H:%M:%S\")\n",
    "\n",
    "    # Load data to HDFS from local filesystem\n",
    "    load_hdfs = subprocess.run('hadoop fs -put '+path+'peru/metadata/'+file+ ' /temporal/peru/metadata', capture_output=True, shell=True)\n",
    "    print(load_hdfs)\n",
    "    # Remove data from local filesystem\n",
    "    try:\n",
    "        os.remove(path+'peru/metadata/'+file)\n",
    "        delete_local = \" % s removed successfully from local filesystem /n\" % file\n",
    "    except OSError as error:\n",
    "        print(error)\n",
    "        delete_local = \" File path can not be removed /n\"\n",
    "\n",
    "    # Print outcomes\n",
    "    # print(load_hdfs)\n",
    "    # print(delete_local)\n",
    "\n",
    "    # Register in log\n",
    "    logger.error(time)\n",
    "    logger.error(load_hdfs)\n",
    "    logger.error(delete_local)"
   ]
  },
  {
   "cell_type": "markdown",
   "metadata": {},
   "source": [
    "Chile"
   ]
  },
  {
   "cell_type": "code",
   "execution_count": 65,
   "metadata": {},
   "outputs": [
    {
     "name": "stdout",
     "output_type": "stream",
     "text": [
      "CompletedProcess(args='hadoop fs -put /Users/pietro/Desktop/BDM/Project/Data.nosync/chile/txt/imp/Importaciones_Enero_2022.txt /temporal/chile/imp', returncode=0, stdout=b'', stderr=b'2022-03-30 20:21:39,166 WARN util.NativeCodeLoader: Unable to load native-hadoop library for your platform... using builtin-java classes where applicable\\n')\n"
     ]
    }
   ],
   "source": [
    "for file in ChileIMP2load:\n",
    "    \n",
    "    # Get time\n",
    "    time = datetime.now().strftime(\"%m/%d/%Y, %H:%M:%S\")\n",
    "\n",
    "    # Load data to HDFS from local filesystem\n",
    "    load_hdfs = subprocess.run('hadoop fs -put '+path+'chile/txt/imp/'+file+ ' /temporal/chile/imp', capture_output=True, shell=True)\n",
    "    print(load_hdfs)\n",
    "    \n",
    "    # Remove data from local filesystem\n",
    "    try:\n",
    "        os.remove(path+'chile/txt/imp/'+file)\n",
    "        delete_local = \" % s removed successfully from local filesystem /n\" % file\n",
    "    except OSError as error:\n",
    "        print(error)\n",
    "        delete_local = \" File path can not be removed /n\"\n",
    "\n",
    "    # Print outcomes\n",
    "    # print(load_hdfs)\n",
    "    # print(delete_local)\n",
    "\n",
    "    # Register in log\n",
    "    logger.error(time)\n",
    "    logger.error(load_hdfs)\n",
    "    logger.error(delete_local)\n",
    "\n",
    "    # change the name to the one of the version (using the date of load)\n",
    "    # update_version_name = subprocess.run('hadoop dfs -mv /user/input/Brazil/'+file+' /user/input/Brazil/'+datetime.now().strftime(\"%m_%d_%Y\"))\n"
   ]
  },
  {
   "cell_type": "code",
   "execution_count": 67,
   "metadata": {},
   "outputs": [
    {
     "name": "stdout",
     "output_type": "stream",
     "text": [
      "CompletedProcess(args='hadoop fs -put /Users/pietro/Desktop/BDM/Project/Data.nosync/chile/txt/exp/.DS_Store /temporal/chile/exp', returncode=0, stdout=b'', stderr=b'2022-03-30 20:22:45,924 WARN util.NativeCodeLoader: Unable to load native-hadoop library for your platform... using builtin-java classes where applicable\\n')\n",
      "CompletedProcess(args='hadoop fs -put /Users/pietro/Desktop/BDM/Project/Data.nosync/chile/txt/exp/Exportaciones_Enero_2022.txt /temporal/chile/exp', returncode=0, stdout=b'', stderr=b'2022-03-30 20:22:46,858 WARN util.NativeCodeLoader: Unable to load native-hadoop library for your platform... using builtin-java classes where applicable\\n')\n"
     ]
    }
   ],
   "source": [
    "for file in ChileEXP2load:\n",
    "    \n",
    "    # Get time\n",
    "    time = datetime.now().strftime(\"%m/%d/%Y, %H:%M:%S\")\n",
    "\n",
    "    # Load data to HDFS from local filesystem\n",
    "    load_hdfs = subprocess.run('hadoop fs -put '+path+'chile/txt/exp/'+file+ ' /temporal/chile/exp', capture_output=True, shell=True)\n",
    "    print(load_hdfs)\n",
    "    \n",
    "    # Remove data from local filesystem\n",
    "    try:\n",
    "        os.remove(path+'chile/txt/exp/'+file)\n",
    "        delete_local = \" % s removed successfully from local filesystem /n\" % file\n",
    "    except OSError as error:\n",
    "        print(error)\n",
    "        delete_local = \" File path can not be removed /n\"\n",
    "\n",
    "    # Print outcomes\n",
    "    # print(load_hdfs)\n",
    "    # print(delete_local)\n",
    "\n",
    "    # Register in log\n",
    "    logger.error(time)\n",
    "    logger.error(load_hdfs)\n",
    "    logger.error(delete_local)\n",
    "\n",
    "    # change the name to the one of the version (using the date of load)\n",
    "    # update_version_name = subprocess.run('hadoop dfs -mv /user/input/Brazil/'+file+' /user/input/Brazil/'+datetime.now().strftime(\"%m_%d_%Y\"))\n"
   ]
  },
  {
   "cell_type": "code",
   "execution_count": 25,
   "metadata": {},
   "outputs": [],
   "source": [
    "ChileMETAIMP2load = os.listdir(path + 'chile/metadata/imp')\n",
    "ChileMETAEXP2load = os.listdir(path + 'chile/metadata/exp')\n"
   ]
  },
  {
   "cell_type": "code",
   "execution_count": 26,
   "metadata": {},
   "outputs": [
    {
     "name": "stdout",
     "output_type": "stream",
     "text": [
      "CompletedProcess(args='hadoop fs -put /Users/pietro/Desktop/BDM/Project/Data.nosync/chile/metadata/imp/IMPORT_descripcion-y-estructura-de-datos-din.xlsx /temporal/chile/metadata/imp', returncode=0, stdout=b'', stderr=b'2022-03-30 20:51:57,395 WARN util.NativeCodeLoader: Unable to load native-hadoop library for your platform... using builtin-java classes where applicable\\n')\n",
      "CompletedProcess(args='hadoop fs -put /Users/pietro/Desktop/BDM/Project/Data.nosync/chile/metadata/exp/EXPORT_descripcion-y-estructura-de-datos-dus.xlsx /temporal/chile/metadata/exp', returncode=0, stdout=b'', stderr=b'2022-03-30 20:51:58,653 WARN util.NativeCodeLoader: Unable to load native-hadoop library for your platform... using builtin-java classes where applicable\\n')\n"
     ]
    }
   ],
   "source": [
    "# export metadata\n",
    "for file in ChileMETAIMP2load:\n",
    "    \n",
    "    # Get time\n",
    "    time = datetime.now().strftime(\"%m/%d/%Y, %H:%M:%S\")\n",
    "\n",
    "    # Load data to HDFS from local filesystem\n",
    "    load_hdfs = subprocess.run('hadoop fs -put '+path+'chile/metadata/imp/'+file+ ' /temporal/chile/metadata/imp', capture_output=True, shell=True)\n",
    "    print(load_hdfs)\n",
    "    # Remove data from local filesystem\n",
    "    try:\n",
    "        os.remove(path+'chile/metadata/imp/'+file)\n",
    "        delete_local = \" % s removed successfully from local filesystem /n\" % file\n",
    "    except OSError as error:\n",
    "        print(error)\n",
    "        delete_local = \" File path can not be removed /n\"\n",
    "\n",
    "    # Print outcomes\n",
    "    # print(load_hdfs)\n",
    "    # print(delete_local)\n",
    "\n",
    "    # Register in log\n",
    "    logger.error(time)\n",
    "    logger.error(load_hdfs)\n",
    "    logger.error(delete_local)\n",
    "\n",
    "\n",
    "# import metadata\n",
    "for file in ChileMETAEXP2load:\n",
    "    \n",
    "    # Get time\n",
    "    time = datetime.now().strftime(\"%m/%d/%Y, %H:%M:%S\")\n",
    "\n",
    "    # Load data to HDFS from local filesystem\n",
    "    load_hdfs = subprocess.run('hadoop fs -put '+path+'chile/metadata/exp/'+file+ ' /temporal/chile/metadata/exp', capture_output=True, shell=True)\n",
    "    print(load_hdfs)\n",
    "    # Remove data from local filesystem\n",
    "    try:\n",
    "        os.remove(path+'chile/metadata/exp/'+file)\n",
    "        delete_local = \" % s removed successfully from local filesystem /n\" % file\n",
    "    except OSError as error:\n",
    "        print(error)\n",
    "        delete_local = \" File path can not be removed /n\"\n",
    "\n",
    "    # Print outcomes\n",
    "    # print(load_hdfs)\n",
    "    # print(delete_local)\n",
    "\n",
    "    # Register in log\n",
    "    logger.error(time)\n",
    "    logger.error(load_hdfs)\n",
    "    logger.error(delete_local)\n",
    "\n",
    "    "
   ]
  }
 ],
 "metadata": {
  "interpreter": {
   "hash": "fd040cd6d2f6c03fa7abba4128c8b33c22dfb22c58d45ceefc9f5658edabb3e8"
  },
  "kernelspec": {
   "display_name": "Python 3.9.7 ('bdm_project')",
   "language": "python",
   "name": "python3"
  },
  "language_info": {
   "codemirror_mode": {
    "name": "ipython",
    "version": 3
   },
   "file_extension": ".py",
   "mimetype": "text/x-python",
   "name": "python",
   "nbconvert_exporter": "python",
   "pygments_lexer": "ipython3",
   "version": "3.9.7"
  },
  "orig_nbformat": 4
 },
 "nbformat": 4,
 "nbformat_minor": 2
}
