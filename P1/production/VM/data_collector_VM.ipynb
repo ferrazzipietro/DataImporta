{
 "cells": [
  {
   "cell_type": "markdown",
   "metadata": {},
   "source": [
    "### **DATA COLLECTOR**"
   ]
  },
  {
   "cell_type": "markdown",
   "metadata": {},
   "source": [
    "Import necessary packages"
   ]
  },
  {
   "cell_type": "code",
   "execution_count": 1,
   "metadata": {},
   "outputs": [],
   "source": [
    "import subprocess\n",
    "import os\n",
    "import logging\n",
    "from datetime import datetime"
   ]
  },
  {
   "cell_type": "markdown",
   "metadata": {},
   "source": [
    "Path of data in local file system"
   ]
  },
  {
   "cell_type": "code",
   "execution_count": 12,
   "metadata": {},
   "outputs": [],
   "source": [
    "path = '/home/bdm/transfer/Data_VM.nosync/'\n",
    "hadoop = '~/BDM_Software/hadoop/bin/hadoop '"
   ]
  },
  {
   "cell_type": "markdown",
   "metadata": {},
   "source": [
    "Get the files to be loaded in the temporal landing zone (HDFS)"
   ]
  },
  {
   "cell_type": "code",
   "execution_count": 4,
   "metadata": {},
   "outputs": [],
   "source": [
    "BrazilIMP2load = os.listdir(path + 'brazil/csv/imp')\n",
    "BrazilEXP2load = os.listdir(path + 'brazil/csv/exp')\n",
    "BrazilMETA2load = os.listdir(path + 'brazil/metadata')\n",
    "\n",
    "ChileIMP2load = os.listdir(path + 'chile/txt/imp')\n",
    "ChileEXP2load = os.listdir(path + 'chile/txt/exp')\n",
    "ChileMETAIMP2load = os.listdir(path + 'chile/metadata/imp')\n",
    "ChileMETAEXP2load = os.listdir(path + 'chile/metadata/exp')\n",
    "\n",
    "PeruEXP2load = os.listdir(path + 'peru/csv/exp')\n",
    "PeruIMP2load = os.listdir(path + 'peru/csv/imp')\n",
    "PeruMETA2load = os.listdir(path + 'peru/metadata')"
   ]
  },
  {
   "cell_type": "markdown",
   "metadata": {},
   "source": [
    "Setup logfile"
   ]
  },
  {
   "cell_type": "code",
   "execution_count": 5,
   "metadata": {},
   "outputs": [],
   "source": [
    "logger = logging.getLogger()\n",
    "if (logger.hasHandlers()):\n",
    "    logger.handlers.clear()\n",
    "handler = logging.FileHandler('logfile.log')\n",
    "logger.addHandler(handler)"
   ]
  },
  {
   "cell_type": "markdown",
   "metadata": {},
   "source": [
    "**Load the files in the temporal landing zone**"
   ]
  },
  {
   "cell_type": "markdown",
   "metadata": {},
   "source": [
    "Brazil"
   ]
  },
  {
   "cell_type": "code",
   "execution_count": 13,
   "metadata": {},
   "outputs": [
    {
     "name": "stdout",
     "output_type": "stream",
     "text": [
      "CompletedProcess(args='~/BDM_Software/hadoop/bin/hadoop  fs -put /home/bdm/transfer/Data_VM.nosync/brazil/csv/imp/IMP_2022_NCM.csv /user/bdm/temporal/brazil/imp', returncode=0, stdout=b'', stderr=b'2022-05-18 09:50:30,514 INFO sasl.SaslDataTransferClient: SASL encryption trust check: localHostTrusted = false, remoteHostTrusted = false\\n')\n"
     ]
    }
   ],
   "source": [
    "for file in BrazilIMP2load:\n",
    "    \n",
    "    # Get time\n",
    "    time = datetime.now().strftime(\"%m/%d/%Y, %H:%M:%S\")\n",
    "\n",
    "    # Load data to HDFS from local filesystem\n",
    "    load_hdfs = subprocess.run(hadoop + ' fs -put '+path+'brazil/csv/imp/'+file+ ' /user/bdm/temporal/brazil/imp', capture_output=True, shell=True)\n",
    "    print(load_hdfs)\n",
    "    # Remove data from local filesystem\n",
    "    # try:\n",
    "    #     os.remove(path+'brazil/csv/imp/'+file)\n",
    "    #     delete_local = \" % s removed successfully from local filesystem /n\" % file\n",
    "    # except OSError as error:\n",
    "    #     print(error)\n",
    "    #     delete_local = \" File path can not be removed /n\"\n",
    "\n",
    "    # Print outcomes\n",
    "    # print(load_hdfs)\n",
    "    # print(delete_local)\n",
    "\n",
    "    # Register in log\n",
    "    logger.error(time)\n",
    "    logger.error(load_hdfs)\n",
    "    # logger.error(delete_local)\n",
    "\n",
    "    # change the name to the one of the version (using the date of load)\n",
    "    # update_version_name = subprocess.run('hadoop dfs -mv /user/input/Brazil/'+file+' /user/input/Brazil/'+datetime.now().strftime(\"%m_%d_%Y\"))"
   ]
  },
  {
   "cell_type": "code",
   "execution_count": 14,
   "metadata": {},
   "outputs": [
    {
     "name": "stdout",
     "output_type": "stream",
     "text": [
      "CompletedProcess(args='~/BDM_Software/hadoop/bin/hadoop fs -put /home/bdm/transfer/Data_VM.nosync/brazil/csv/exp/EXP_2022_NCM.csv /user/bdm/temporal/brazil/exp', returncode=0, stdout=b'', stderr=b'2022-05-18 09:52:58,272 INFO sasl.SaslDataTransferClient: SASL encryption trust check: localHostTrusted = false, remoteHostTrusted = false\\n')\n"
     ]
    }
   ],
   "source": [
    "for file in BrazilEXP2load:\n",
    "    \n",
    "    # Get time\n",
    "    time = datetime.now().strftime(\"%m/%d/%Y, %H:%M:%S\")\n",
    "\n",
    "    # Load data to HDFS from local filesystem\n",
    "    load_hdfs = subprocess.run(hadoop + 'fs -put '+path+'brazil/csv/exp/'+file+ ' /user/bdm/temporal/brazil/exp', capture_output=True, shell=True)\n",
    "    print(load_hdfs)\n",
    "    # Remove data from local filesystem\n",
    "    # try:\n",
    "    #     os.remove(path+'brazil/csv/exp/'+file)\n",
    "    #     delete_local = \" % s removed successfully from local filesystem /n\" % file\n",
    "    # except OSError as error:\n",
    "    #     print(error)\n",
    "    #     delete_local = \" File path can not be removed /n\"\n",
    "\n",
    "    # Print outcomes\n",
    "    # print(load_hdfs)\n",
    "    # print(delete_local)\n",
    "\n",
    "    # Register in log\n",
    "    logger.error(time)\n",
    "    logger.error(load_hdfs)\n",
    "    # logger.error(delete_local)\n",
    "\n",
    "    # change the name to the one of the version (using the date of load)\n",
    "    # update_version_name = subprocess.run('hadoop dfs -mv /user/input/Brazil/'+file+' /user/input/Brazil/'+datetime.now().strftime(\"%m_%d_%Y\"))\n",
    "\n",
    "\n"
   ]
  },
  {
   "cell_type": "code",
   "execution_count": 15,
   "metadata": {},
   "outputs": [
    {
     "name": "stdout",
     "output_type": "stream",
     "text": [
      "CompletedProcess(args='~/BDM_Software/hadoop/bin/hadoop fs -put /home/bdm/transfer/Data_VM.nosync/brazil/metadata/NCM.csv /user/bdm/temporal/brazil/metadata', returncode=0, stdout=b'', stderr=b'2022-05-18 09:53:21,819 INFO sasl.SaslDataTransferClient: SASL encryption trust check: localHostTrusted = false, remoteHostTrusted = false\\n')\n",
      "CompletedProcess(args='~/BDM_Software/hadoop/bin/hadoop fs -put /home/bdm/transfer/Data_VM.nosync/brazil/metadata/MUN.csv /user/bdm/temporal/brazil/metadata', returncode=0, stdout=b'', stderr=b'2022-05-18 09:53:25,987 INFO sasl.SaslDataTransferClient: SASL encryption trust check: localHostTrusted = false, remoteHostTrusted = false\\n')\n",
      "CompletedProcess(args='~/BDM_Software/hadoop/bin/hadoop fs -put /home/bdm/transfer/Data_VM.nosync/brazil/metadata/SH.csv /user/bdm/temporal/brazil/metadata', returncode=0, stdout=b'', stderr=b'2022-05-18 09:53:29,349 INFO sasl.SaslDataTransferClient: SASL encryption trust check: localHostTrusted = false, remoteHostTrusted = false\\n')\n",
      "CompletedProcess(args='~/BDM_Software/hadoop/bin/hadoop fs -put /home/bdm/transfer/Data_VM.nosync/brazil/metadata/TABELAS_AUXILIARES.xlsx /user/bdm/temporal/brazil/metadata', returncode=0, stdout=b'', stderr=b'2022-05-18 09:53:33,026 INFO sasl.SaslDataTransferClient: SASL encryption trust check: localHostTrusted = false, remoteHostTrusted = false\\n')\n",
      "CompletedProcess(args='~/BDM_Software/hadoop/bin/hadoop fs -put /home/bdm/transfer/Data_VM.nosync/brazil/metadata/CUCI.csv /user/bdm/temporal/brazil/metadata', returncode=0, stdout=b'', stderr=b'2022-05-18 09:53:36,636 INFO sasl.SaslDataTransferClient: SASL encryption trust check: localHostTrusted = false, remoteHostTrusted = false\\n')\n",
      "CompletedProcess(args='~/BDM_Software/hadoop/bin/hadoop fs -put /home/bdm/transfer/Data_VM.nosync/brazil/metadata/Explanaiton Brasil.txt /user/bdm/temporal/brazil/metadata', returncode=1, stdout=b'', stderr=b\"put: `/home/bdm/transfer/Data_VM.nosync/brazil/metadata/Explanaiton': No such file or directory\\nput: `Brasil.txt': No such file or directory\\n\")\n",
      "CompletedProcess(args='~/BDM_Software/hadoop/bin/hadoop fs -put /home/bdm/transfer/Data_VM.nosync/brazil/metadata/UF.csv /user/bdm/temporal/brazil/metadata', returncode=0, stdout=b'', stderr=b'2022-05-18 09:53:43,156 INFO sasl.SaslDataTransferClient: SASL encryption trust check: localHostTrusted = false, remoteHostTrusted = false\\n')\n",
      "CompletedProcess(args='~/BDM_Software/hadoop/bin/hadoop fs -put /home/bdm/transfer/Data_VM.nosync/brazil/metadata/ISIC .csv /user/bdm/temporal/brazil/metadata', returncode=1, stdout=b'', stderr=b\"put: `/home/bdm/transfer/Data_VM.nosync/brazil/metadata/ISIC': No such file or directory\\nput: `.csv': No such file or directory\\n\")\n",
      "CompletedProcess(args='~/BDM_Software/hadoop/bin/hadoop fs -put /home/bdm/transfer/Data_VM.nosync/brazil/metadata/NCM_FAT_AGREG.csv /user/bdm/temporal/brazil/metadata', returncode=0, stdout=b'', stderr=b'2022-05-18 09:53:49,335 INFO sasl.SaslDataTransferClient: SASL encryption trust check: localHostTrusted = false, remoteHostTrusted = false\\n')\n",
      "CompletedProcess(args='~/BDM_Software/hadoop/bin/hadoop fs -put /home/bdm/transfer/Data_VM.nosync/brazil/metadata/NCM_PPE.csv /user/bdm/temporal/brazil/metadata', returncode=0, stdout=b'', stderr=b'2022-05-18 09:53:52,606 INFO sasl.SaslDataTransferClient: SASL encryption trust check: localHostTrusted = false, remoteHostTrusted = false\\n')\n",
      "CompletedProcess(args='~/BDM_Software/hadoop/bin/hadoop fs -put /home/bdm/transfer/Data_VM.nosync/brazil/metadata/PAIS.csv /user/bdm/temporal/brazil/metadata', returncode=0, stdout=b'', stderr=b'2022-05-18 09:53:56,332 INFO sasl.SaslDataTransferClient: SASL encryption trust check: localHostTrusted = false, remoteHostTrusted = false\\n')\n"
     ]
    }
   ],
   "source": [
    "for file in BrazilMETA2load:\n",
    "    \n",
    "    # Get time\n",
    "    time = datetime.now().strftime(\"%m/%d/%Y, %H:%M:%S\")\n",
    "\n",
    "    # Load data to HDFS from local filesystem\n",
    "    load_hdfs = subprocess.run(hadoop + 'fs -put '+path+'brazil/metadata/'+file+ ' /user/bdm/temporal/brazil/metadata', capture_output=True, shell=True)\n",
    "    print(load_hdfs)\n",
    "    # Remove data from local filesystem\n",
    "    try:\n",
    "        os.remove(path+'brazil/metadata/'+file)\n",
    "        delete_local = \" % s removed successfully from local filesystem /n\" % file\n",
    "    except OSError as error:\n",
    "        print(error)\n",
    "        delete_local = \" File path can not be removed /n\"\n",
    "\n",
    "    # Print outcomes\n",
    "    # print(load_hdfs)\n",
    "    # print(delete_local)\n",
    "\n",
    "    # Register in log\n",
    "    logger.error(time)\n",
    "    logger.error(load_hdfs)\n",
    "    logger.error(delete_local)\n"
   ]
  },
  {
   "cell_type": "markdown",
   "metadata": {},
   "source": [
    "Perù"
   ]
  },
  {
   "cell_type": "code",
   "execution_count": 16,
   "metadata": {},
   "outputs": [
    {
     "name": "stdout",
     "output_type": "stream",
     "text": [
      "CompletedProcess(args='~/BDM_Software/hadoop/bin/hadoop fs -put /home/bdm/transfer/Data_VM.nosync/peru/csv/imp/.DS_Store /user/bdm/temporal/peru/imp', returncode=0, stdout=b'', stderr=b'2022-05-18 09:54:13,247 INFO sasl.SaslDataTransferClient: SASL encryption trust check: localHostTrusted = false, remoteHostTrusted = false\\n')\n",
      "CompletedProcess(args='~/BDM_Software/hadoop/bin/hadoop fs -put /home/bdm/transfer/Data_VM.nosync/peru/csv/imp/ma07130322.csv /user/bdm/temporal/peru/imp', returncode=0, stdout=b'', stderr=b'2022-05-18 09:54:16,712 INFO sasl.SaslDataTransferClient: SASL encryption trust check: localHostTrusted = false, remoteHostTrusted = false\\n')\n",
      "CompletedProcess(args='~/BDM_Software/hadoop/bin/hadoop fs -put /home/bdm/transfer/Data_VM.nosync/peru/csv/imp/ma21270222.csv /user/bdm/temporal/peru/imp', returncode=0, stdout=b'', stderr=b'2022-05-18 09:54:22,524 INFO sasl.SaslDataTransferClient: SASL encryption trust check: localHostTrusted = false, remoteHostTrusted = false\\n')\n",
      "CompletedProcess(args='~/BDM_Software/hadoop/bin/hadoop fs -put /home/bdm/transfer/Data_VM.nosync/peru/csv/imp/ma17230122.csv /user/bdm/temporal/peru/imp', returncode=0, stdout=b'', stderr=b'2022-05-18 09:54:28,594 INFO sasl.SaslDataTransferClient: SASL encryption trust check: localHostTrusted = false, remoteHostTrusted = false\\n')\n",
      "CompletedProcess(args='~/BDM_Software/hadoop/bin/hadoop fs -put /home/bdm/transfer/Data_VM.nosync/peru/csv/imp/ma21270322.csv /user/bdm/temporal/peru/imp', returncode=0, stdout=b'', stderr=b'2022-05-18 09:54:41,527 INFO sasl.SaslDataTransferClient: SASL encryption trust check: localHostTrusted = false, remoteHostTrusted = false\\n')\n",
      "CompletedProcess(args='~/BDM_Software/hadoop/bin/hadoop fs -put /home/bdm/transfer/Data_VM.nosync/peru/csv/imp/ma24300122.csv /user/bdm/temporal/peru/imp', returncode=0, stdout=b'', stderr=b'2022-05-18 09:54:46,727 INFO sasl.SaslDataTransferClient: SASL encryption trust check: localHostTrusted = false, remoteHostTrusted = false\\n')\n",
      "CompletedProcess(args='~/BDM_Software/hadoop/bin/hadoop fs -put /home/bdm/transfer/Data_VM.nosync/peru/csv/imp/ma31060222.csv /user/bdm/temporal/peru/imp', returncode=0, stdout=b'', stderr=b'2022-05-18 09:54:54,280 INFO sasl.SaslDataTransferClient: SASL encryption trust check: localHostTrusted = false, remoteHostTrusted = false\\n')\n",
      "CompletedProcess(args='~/BDM_Software/hadoop/bin/hadoop fs -put /home/bdm/transfer/Data_VM.nosync/peru/csv/imp/ma28060322.csv /user/bdm/temporal/peru/imp', returncode=0, stdout=b'', stderr=b'2022-05-18 09:55:08,171 INFO sasl.SaslDataTransferClient: SASL encryption trust check: localHostTrusted = false, remoteHostTrusted = false\\n')\n",
      "CompletedProcess(args='~/BDM_Software/hadoop/bin/hadoop fs -put /home/bdm/transfer/Data_VM.nosync/peru/csv/imp/ma07130222.csv /user/bdm/temporal/peru/imp', returncode=0, stdout=b'', stderr=b'2022-05-18 09:55:13,799 INFO sasl.SaslDataTransferClient: SASL encryption trust check: localHostTrusted = false, remoteHostTrusted = false\\n')\n",
      "CompletedProcess(args='~/BDM_Software/hadoop/bin/hadoop fs -put /home/bdm/transfer/Data_VM.nosync/peru/csv/imp/ma14200322.csv /user/bdm/temporal/peru/imp', returncode=0, stdout=b'', stderr=b'2022-05-18 09:55:26,187 INFO sasl.SaslDataTransferClient: SASL encryption trust check: localHostTrusted = false, remoteHostTrusted = false\\n')\n",
      "CompletedProcess(args='~/BDM_Software/hadoop/bin/hadoop fs -put /home/bdm/transfer/Data_VM.nosync/peru/csv/imp/ma14200222.csv /user/bdm/temporal/peru/imp', returncode=0, stdout=b'', stderr=b'2022-05-18 09:55:31,231 INFO sasl.SaslDataTransferClient: SASL encryption trust check: localHostTrusted = false, remoteHostTrusted = false\\n')\n"
     ]
    }
   ],
   "source": [
    "for file in PeruIMP2load:\n",
    "    \n",
    "    # Get time\n",
    "    time = datetime.now().strftime(\"%m/%d/%Y, %H:%M:%S\")\n",
    "\n",
    "    # Load data to HDFS from local filesystem\n",
    "    load_hdfs = subprocess.run(hadoop + 'fs -put '+path+'peru/csv/imp/'+file+ ' /user/bdm/temporal/peru/imp', capture_output=True, shell=True)\n",
    "    print(load_hdfs)\n",
    "    # Remove data from local filesystem\n",
    "    try:\n",
    "        os.remove(path+'peru/csv/imp/'+file)\n",
    "        delete_local = \" % s removed successfully from local filesystem /n\" % file\n",
    "    except OSError as error:\n",
    "        print(error)\n",
    "        delete_local = \" File path can not be removed /n\"\n",
    "\n",
    "    # Print outcomes\n",
    "    # print(load_hdfs)\n",
    "    # print(delete_local)\n",
    "\n",
    "    # Register in log\n",
    "    logger.error(time)\n",
    "    logger.error(load_hdfs)\n",
    "    logger.error(delete_local)\n",
    "\n",
    "    # change the name to the one of the version (using the date of load)\n",
    "    # update_version_name = subprocess.run('hadoop dfs -mv /user/input/Brazil/'+file+' /user/input/Brazil/'+datetime.now().strftime(\"%m_%d_%Y\"))\n"
   ]
  },
  {
   "cell_type": "code",
   "execution_count": 17,
   "metadata": {},
   "outputs": [
    {
     "name": "stdout",
     "output_type": "stream",
     "text": [
      "CompletedProcess(args='~/BDM_Software/hadoop/bin/hadoop fs -put /home/bdm/transfer/Data_VM.nosync/peru/csv/exp/x31060222.csv /user/bdm/temporal/peru/exp', returncode=1, stdout=b'', stderr=b\"put: `/user/bdm/temporal/peru/exp/x31060222.csv': File exists\\n\")\n",
      "CompletedProcess(args='~/BDM_Software/hadoop/bin/hadoop fs -put /home/bdm/transfer/Data_VM.nosync/peru/csv/exp/x21270222.csv /user/bdm/temporal/peru/exp', returncode=1, stdout=b'', stderr=b\"put: `/user/bdm/temporal/peru/exp/x21270222.csv': File exists\\n\")\n",
      "CompletedProcess(args='~/BDM_Software/hadoop/bin/hadoop fs -put /home/bdm/transfer/Data_VM.nosync/peru/csv/exp/x17230122.csv /user/bdm/temporal/peru/exp', returncode=1, stdout=b'', stderr=b\"put: `/user/bdm/temporal/peru/exp/x17230122.csv': File exists\\n\")\n",
      "CompletedProcess(args='~/BDM_Software/hadoop/bin/hadoop fs -put /home/bdm/transfer/Data_VM.nosync/peru/csv/exp/x24300122.csv /user/bdm/temporal/peru/exp', returncode=1, stdout=b'', stderr=b\"put: `/user/bdm/temporal/peru/exp/x24300122.csv': File exists\\n\")\n",
      "CompletedProcess(args='~/BDM_Software/hadoop/bin/hadoop fs -put /home/bdm/transfer/Data_VM.nosync/peru/csv/exp/x07130222.csv /user/bdm/temporal/peru/exp', returncode=1, stdout=b'', stderr=b\"put: `/user/bdm/temporal/peru/exp/x07130222.csv': File exists\\n\")\n",
      "CompletedProcess(args='~/BDM_Software/hadoop/bin/hadoop fs -put /home/bdm/transfer/Data_VM.nosync/peru/csv/exp/x14200222.csv /user/bdm/temporal/peru/exp', returncode=1, stdout=b'', stderr=b\"put: `/user/bdm/temporal/peru/exp/x14200222.csv': File exists\\n\")\n",
      "CompletedProcess(args='~/BDM_Software/hadoop/bin/hadoop fs -put /home/bdm/transfer/Data_VM.nosync/peru/csv/exp/x28060322.csv /user/bdm/temporal/peru/exp', returncode=1, stdout=b'', stderr=b\"put: `/user/bdm/temporal/peru/exp/x28060322.csv': File exists\\n\")\n"
     ]
    }
   ],
   "source": [
    "for file in PeruEXP2load:\n",
    "    \n",
    "    # Get time\n",
    "    time = datetime.now().strftime(\"%m/%d/%Y, %H:%M:%S\")\n",
    "\n",
    "    # Load data to HDFS from local filesystem\n",
    "    load_hdfs = subprocess.run(hadoop + 'fs -put '+path+'peru/csv/exp/'+file+ ' /user/bdm/temporal/peru/exp', capture_output=True, shell=True)\n",
    "    print(load_hdfs)\n",
    "    # Remove data from local filesystem\n",
    "    try:\n",
    "        os.remove(path+'peru/csv/exp/'+file)\n",
    "        delete_local = \" % s removed successfully from local filesystem /n\" % file\n",
    "    except OSError as error:\n",
    "        print(error)\n",
    "        delete_local = \" File path can not be removed /n\"\n",
    "\n",
    "    # Print outcomes\n",
    "    # print(load_hdfs)\n",
    "    # print(delete_local)\n",
    "\n",
    "    # Register in log\n",
    "    logger.error(time)\n",
    "    logger.error(load_hdfs)\n",
    "    logger.error(delete_local)\n",
    "\n",
    "    # change the name to the one of the version (using the date of load)\n",
    "    # update_version_name = subprocess.run('hadoop dfs -mv /user/input/Brazil/'+file+' /user/input/Brazil/'+datetime.now().strftime(\"%m_%d_%Y\"))\n"
   ]
  },
  {
   "cell_type": "code",
   "execution_count": 18,
   "metadata": {},
   "outputs": [
    {
     "name": "stdout",
     "output_type": "stream",
     "text": [
      "CompletedProcess(args='~/BDM_Software/hadoop/bin/hadoop fs -put /home/bdm/transfer/Data_VM.nosync/peru/metadata/Tablibe.txt /user/bdm/temporal/peru/metadata', returncode=0, stdout=b'', stderr=b'2022-05-18 09:56:46,057 INFO sasl.SaslDataTransferClient: SASL encryption trust check: localHostTrusted = false, remoteHostTrusted = false\\n')\n",
      "CompletedProcess(args='~/BDM_Software/hadoop/bin/hadoop fs -put /home/bdm/transfer/Data_VM.nosync/peru/metadata/AgenMar.txt /user/bdm/temporal/peru/metadata', returncode=0, stdout=b'', stderr=b'2022-05-18 09:56:49,268 INFO sasl.SaslDataTransferClient: SASL encryption trust check: localHostTrusted = false, remoteHostTrusted = false\\n')\n",
      "CompletedProcess(args='~/BDM_Software/hadoop/bin/hadoop fs -put /home/bdm/transfer/Data_VM.nosync/peru/metadata/Bancos.txt /user/bdm/temporal/peru/metadata', returncode=0, stdout=b'', stderr=b'2022-05-18 09:56:52,490 INFO sasl.SaslDataTransferClient: SASL encryption trust check: localHostTrusted = false, remoteHostTrusted = false\\n')\n",
      "CompletedProcess(args='~/BDM_Software/hadoop/bin/hadoop fs -put /home/bdm/transfer/Data_VM.nosync/peru/metadata/EstMercancia.txt /user/bdm/temporal/peru/metadata', returncode=0, stdout=b'', stderr=b'2022-05-18 09:56:55,774 INFO sasl.SaslDataTransferClient: SASL encryption trust check: localHostTrusted = false, remoteHostTrusted = false\\n')\n",
      "CompletedProcess(args='~/BDM_Software/hadoop/bin/hadoop fs -put /home/bdm/transfer/Data_VM.nosync/peru/metadata/CodProvS.txt /user/bdm/temporal/peru/metadata', returncode=0, stdout=b'', stderr=b'2022-05-18 09:56:59,215 INFO sasl.SaslDataTransferClient: SASL encryption trust check: localHostTrusted = false, remoteHostTrusted = false\\n')\n",
      "CompletedProcess(args='~/BDM_Software/hadoop/bin/hadoop fs -put /home/bdm/transfer/Data_VM.nosync/peru/metadata/RegOpeAduaneras.txt /user/bdm/temporal/peru/metadata', returncode=0, stdout=b'', stderr=b'2022-05-18 09:57:03,778 INFO sasl.SaslDataTransferClient: SASL encryption trust check: localHostTrusted = false, remoteHostTrusted = false\\n')\n",
      "CompletedProcess(args='~/BDM_Software/hadoop/bin/hadoop fs -put /home/bdm/transfer/Data_VM.nosync/peru/metadata/.DS_Store /user/bdm/temporal/peru/metadata', returncode=0, stdout=b'', stderr=b'2022-05-18 09:57:08,081 INFO sasl.SaslDataTransferClient: SASL encryption trust check: localHostTrusted = false, remoteHostTrusted = false\\n')\n",
      "CompletedProcess(args='~/BDM_Software/hadoop/bin/hadoop fs -put /home/bdm/transfer/Data_VM.nosync/peru/metadata/estructura_bases.xls /user/bdm/temporal/peru/metadata', returncode=0, stdout=b'', stderr=b'2022-05-18 09:57:11,368 INFO sasl.SaslDataTransferClient: SASL encryption trust check: localHostTrusted = false, remoteHostTrusted = false\\n')\n",
      "CompletedProcess(args='~/BDM_Software/hadoop/bin/hadoop fs -put /home/bdm/transfer/Data_VM.nosync/peru/metadata/UnidMercancia.txt /user/bdm/temporal/peru/metadata', returncode=0, stdout=b'', stderr=b'2022-05-18 09:57:14,551 INFO sasl.SaslDataTransferClient: SASL encryption trust check: localHostTrusted = false, remoteHostTrusted = false\\n')\n",
      "CompletedProcess(args='~/BDM_Software/hadoop/bin/hadoop fs -put /home/bdm/transfer/Data_VM.nosync/peru/metadata/codprov.txt /user/bdm/temporal/peru/metadata', returncode=0, stdout=b'', stderr=b'2022-05-18 09:57:17,890 INFO sasl.SaslDataTransferClient: SASL encryption trust check: localHostTrusted = false, remoteHostTrusted = false\\n')\n",
      "CompletedProcess(args='~/BDM_Software/hadoop/bin/hadoop fs -put /home/bdm/transfer/Data_VM.nosync/peru/metadata/LinAereasManif.txt /user/bdm/temporal/peru/metadata', returncode=0, stdout=b'', stderr=b'2022-05-18 09:57:21,160 INFO sasl.SaslDataTransferClient: SASL encryption trust check: localHostTrusted = false, remoteHostTrusted = false\\n')\n",
      "CompletedProcess(args='~/BDM_Software/hadoop/bin/hadoop fs -put /home/bdm/transfer/Data_VM.nosync/peru/metadata/Monedas.txt /user/bdm/temporal/peru/metadata', returncode=0, stdout=b'', stderr=b'2022-05-18 09:57:24,354 INFO sasl.SaslDataTransferClient: SASL encryption trust check: localHostTrusted = false, remoteHostTrusted = false\\n')\n",
      "CompletedProcess(args='~/BDM_Software/hadoop/bin/hadoop fs -put /home/bdm/transfer/Data_VM.nosync/peru/metadata/Tributos.txt /user/bdm/temporal/peru/metadata', returncode=0, stdout=b'', stderr=b'2022-05-18 09:57:27,683 INFO sasl.SaslDataTransferClient: SASL encryption trust check: localHostTrusted = false, remoteHostTrusted = false\\n')\n",
      "CompletedProcess(args='~/BDM_Software/hadoop/bin/hadoop fs -put /home/bdm/transfer/Data_VM.nosync/peru/metadata/AgenNav.txt /user/bdm/temporal/peru/metadata', returncode=0, stdout=b'', stderr=b'2022-05-18 09:57:31,131 INFO sasl.SaslDataTransferClient: SASL encryption trust check: localHostTrusted = false, remoteHostTrusted = false\\n')\n",
      "CompletedProcess(args='~/BDM_Software/hadoop/bin/hadoop fs -put /home/bdm/transfer/Data_VM.nosync/peru/metadata/TipUltract.txt /user/bdm/temporal/peru/metadata', returncode=0, stdout=b'', stderr=b'2022-05-18 09:57:34,490 INFO sasl.SaslDataTransferClient: SASL encryption trust check: localHostTrusted = false, remoteHostTrusted = false\\n')\n",
      "CompletedProcess(args='~/BDM_Software/hadoop/bin/hadoop fs -put /home/bdm/transfer/Data_VM.nosync/peru/metadata/UnidComerExp.txt /user/bdm/temporal/peru/metadata', returncode=0, stdout=b'', stderr=b'2022-05-18 09:57:39,097 INFO sasl.SaslDataTransferClient: SASL encryption trust check: localHostTrusted = false, remoteHostTrusted = false\\n')\n",
      "CompletedProcess(args='~/BDM_Software/hadoop/bin/hadoop fs -put /home/bdm/transfer/Data_VM.nosync/peru/metadata/MotValorAjust.txt /user/bdm/temporal/peru/metadata', returncode=0, stdout=b'', stderr=b'2022-05-18 09:57:42,325 INFO sasl.SaslDataTransferClient: SASL encryption trust check: localHostTrusted = false, remoteHostTrusted = false\\n')\n",
      "CompletedProcess(args='~/BDM_Software/hadoop/bin/hadoop fs -put /home/bdm/transfer/Data_VM.nosync/peru/metadata/RecintAduaner.txt /user/bdm/temporal/peru/metadata', returncode=0, stdout=b'', stderr=b'2022-05-18 09:57:45,635 INFO sasl.SaslDataTransferClient: SASL encryption trust check: localHostTrusted = false, remoteHostTrusted = false\\n')\n",
      "CompletedProcess(args='~/BDM_Software/hadoop/bin/hadoop fs -put /home/bdm/transfer/Data_VM.nosync/peru/metadata/AgenEmb.txt /user/bdm/temporal/peru/metadata', returncode=0, stdout=b'', stderr=b'2022-05-18 09:57:48,860 INFO sasl.SaslDataTransferClient: SASL encryption trust check: localHostTrusted = false, remoteHostTrusted = false\\n')\n",
      "CompletedProcess(args='~/BDM_Software/hadoop/bin/hadoop fs -put /home/bdm/transfer/Data_VM.nosync/peru/metadata/Paises.txt /user/bdm/temporal/peru/metadata', returncode=0, stdout=b'', stderr=b'2022-05-18 09:57:52,230 INFO sasl.SaslDataTransferClient: SASL encryption trust check: localHostTrusted = false, remoteHostTrusted = false\\n')\n",
      "CompletedProcess(args='~/BDM_Software/hadoop/bin/hadoop fs -put /home/bdm/transfer/Data_VM.nosync/peru/metadata/TipTratamiento.txt /user/bdm/temporal/peru/metadata', returncode=0, stdout=b'', stderr=b'2022-05-18 09:57:55,584 INFO sasl.SaslDataTransferClient: SASL encryption trust check: localHostTrusted = false, remoteHostTrusted = false\\n')\n",
      "CompletedProcess(args='~/BDM_Software/hadoop/bin/hadoop fs -put /home/bdm/transfer/Data_VM.nosync/peru/metadata/EmpInternac.txt /user/bdm/temporal/peru/metadata', returncode=0, stdout=b'', stderr=b'2022-05-18 09:57:59,047 INFO sasl.SaslDataTransferClient: SASL encryption trust check: localHostTrusted = false, remoteHostTrusted = false\\n')\n",
      "CompletedProcess(args='~/BDM_Software/hadoop/bin/hadoop fs -put /home/bdm/transfer/Data_VM.nosync/peru/metadata/MerExpTemp.txt /user/bdm/temporal/peru/metadata', returncode=0, stdout=b'', stderr=b'2022-05-18 09:58:04,260 INFO sasl.SaslDataTransferClient: SASL encryption trust check: localHostTrusted = false, remoteHostTrusted = false\\n')\n",
      "CompletedProcess(args='~/BDM_Software/hadoop/bin/hadoop fs -put /home/bdm/transfer/Data_VM.nosync/peru/metadata/TipDocumAutMerRest.txt /user/bdm/temporal/peru/metadata', returncode=0, stdout=b'', stderr=b'2022-05-18 09:58:07,910 INFO sasl.SaslDataTransferClient: SASL encryption trust check: localHostTrusted = false, remoteHostTrusted = false\\n')\n",
      "CompletedProcess(args='~/BDM_Software/hadoop/bin/hadoop fs -put /home/bdm/transfer/Data_VM.nosync/peru/metadata/AgenCar.txt /user/bdm/temporal/peru/metadata', returncode=0, stdout=b'', stderr=b'2022-05-18 09:58:11,151 INFO sasl.SaslDataTransferClient: SASL encryption trust check: localHostTrusted = false, remoteHostTrusted = false\\n')\n",
      "CompletedProcess(args='~/BDM_Software/hadoop/bin/hadoop fs -put /home/bdm/transfer/Data_VM.nosync/peru/metadata/Documento.txt /user/bdm/temporal/peru/metadata', returncode=0, stdout=b'', stderr=b'2022-05-18 09:58:14,373 INFO sasl.SaslDataTransferClient: SASL encryption trust check: localHostTrusted = false, remoteHostTrusted = false\\n')\n",
      "CompletedProcess(args='~/BDM_Software/hadoop/bin/hadoop fs -put /home/bdm/transfer/Data_VM.nosync/peru/metadata/Aduanas.txt /user/bdm/temporal/peru/metadata', returncode=0, stdout=b'', stderr=b'2022-05-18 09:58:17,677 INFO sasl.SaslDataTransferClient: SASL encryption trust check: localHostTrusted = false, remoteHostTrusted = false\\n')\n",
      "CompletedProcess(args='~/BDM_Software/hadoop/bin/hadoop fs -put /home/bdm/transfer/Data_VM.nosync/peru/metadata/Agente.txt /user/bdm/temporal/peru/metadata', returncode=0, stdout=b'', stderr=b'2022-05-18 09:58:20,928 INFO sasl.SaslDataTransferClient: SASL encryption trust check: localHostTrusted = false, remoteHostTrusted = false\\n')\n",
      "CompletedProcess(args='~/BDM_Software/hadoop/bin/hadoop fs -put /home/bdm/transfer/Data_VM.nosync/peru/metadata/Sanciones.txt /user/bdm/temporal/peru/metadata', returncode=0, stdout=b'', stderr=b'2022-05-18 09:58:24,131 INFO sasl.SaslDataTransferClient: SASL encryption trust check: localHostTrusted = false, remoteHostTrusted = false\\n')\n",
      "CompletedProcess(args='~/BDM_Software/hadoop/bin/hadoop fs -put /home/bdm/transfer/Data_VM.nosync/peru/metadata/Puertos.txt /user/bdm/temporal/peru/metadata', returncode=0, stdout=b'', stderr=b'2022-05-18 09:58:27,529 INFO sasl.SaslDataTransferClient: SASL encryption trust check: localHostTrusted = false, remoteHostTrusted = false\\n')\n",
      "CompletedProcess(args='~/BDM_Software/hadoop/bin/hadoop fs -put /home/bdm/transfer/Data_VM.nosync/peru/metadata/MedTransporte.txt /user/bdm/temporal/peru/metadata', returncode=0, stdout=b'', stderr=b'2022-05-18 09:58:30,948 INFO sasl.SaslDataTransferClient: SASL encryption trust check: localHostTrusted = false, remoteHostTrusted = false\\n')\n",
      "CompletedProcess(args='~/BDM_Software/hadoop/bin/hadoop fs -put /home/bdm/transfer/Data_VM.nosync/peru/metadata/EntAutMerRest.txt /user/bdm/temporal/peru/metadata', returncode=0, stdout=b'', stderr=b'2022-05-18 09:58:34,170 INFO sasl.SaslDataTransferClient: SASL encryption trust check: localHostTrusted = false, remoteHostTrusted = false\\n')\n",
      "CompletedProcess(args='~/BDM_Software/hadoop/bin/hadoop fs -put /home/bdm/transfer/Data_VM.nosync/peru/metadata/UnidMedida.txt /user/bdm/temporal/peru/metadata', returncode=0, stdout=b'', stderr=b'2022-05-18 09:58:37,481 INFO sasl.SaslDataTransferClient: SASL encryption trust check: localHostTrusted = false, remoteHostTrusted = false\\n')\n",
      "CompletedProcess(args='~/BDM_Software/hadoop/bin/hadoop fs -put /home/bdm/transfer/Data_VM.nosync/peru/metadata/EmpNacional.txt /user/bdm/temporal/peru/metadata', returncode=0, stdout=b'', stderr=b'2022-05-18 09:58:40,789 INFO sasl.SaslDataTransferClient: SASL encryption trust check: localHostTrusted = false, remoteHostTrusted = false\\n')\n",
      "CompletedProcess(args='~/BDM_Software/hadoop/bin/hadoop fs -put /home/bdm/transfer/Data_VM.nosync/peru/metadata/Aerolineas.txt /user/bdm/temporal/peru/metadata', returncode=0, stdout=b'', stderr=b'2022-05-18 09:58:44,067 INFO sasl.SaslDataTransferClient: SASL encryption trust check: localHostTrusted = false, remoteHostTrusted = false\\n')\n"
     ]
    }
   ],
   "source": [
    "for file in PeruMETA2load:\n",
    "    \n",
    "    # Get time\n",
    "    time = datetime.now().strftime(\"%m/%d/%Y, %H:%M:%S\")\n",
    "\n",
    "    # Load data to HDFS from local filesystem\n",
    "    load_hdfs = subprocess.run(hadoop + 'fs -put '+path+'peru/metadata/'+file+ ' /user/bdm/temporal/peru/metadata', capture_output=True, shell=True)\n",
    "    print(load_hdfs)\n",
    "    # Remove data from local filesystem\n",
    "    try:\n",
    "        os.remove(path+'peru/metadata/'+file)\n",
    "        delete_local = \" % s removed successfully from local filesystem /n\" % file\n",
    "    except OSError as error:\n",
    "        print(error)\n",
    "        delete_local = \" File path can not be removed /n\"\n",
    "\n",
    "    # Print outcomes\n",
    "    # print(load_hdfs)\n",
    "    # print(delete_local)\n",
    "\n",
    "    # Register in log\n",
    "    logger.error(time)\n",
    "    logger.error(load_hdfs)\n",
    "    logger.error(delete_local)"
   ]
  },
  {
   "cell_type": "markdown",
   "metadata": {},
   "source": [
    "Chile"
   ]
  },
  {
   "cell_type": "code",
   "execution_count": 19,
   "metadata": {},
   "outputs": [
    {
     "name": "stdout",
     "output_type": "stream",
     "text": [
      "CompletedProcess(args='~/BDM_Software/hadoop/bin/hadoop fs -put /home/bdm/transfer/Data_VM.nosync/chile/txt/imp/Importaciones_Enero_2022.txt /user/bdm/temporal/chile/imp', returncode=0, stdout=b'', stderr=b'2022-05-18 09:58:47,615 INFO sasl.SaslDataTransferClient: SASL encryption trust check: localHostTrusted = false, remoteHostTrusted = false\\n2022-05-18 09:58:50,606 INFO sasl.SaslDataTransferClient: SASL encryption trust check: localHostTrusted = false, remoteHostTrusted = false\\n2022-05-18 09:58:59,836 INFO sasl.SaslDataTransferClient: SASL encryption trust check: localHostTrusted = false, remoteHostTrusted = false\\n')\n"
     ]
    }
   ],
   "source": [
    "for file in ChileIMP2load:\n",
    "    \n",
    "    # Get time\n",
    "    time = datetime.now().strftime(\"%m/%d/%Y, %H:%M:%S\")\n",
    "\n",
    "    # Load data to HDFS from local filesystem\n",
    "    load_hdfs = subprocess.run(hadoop + 'fs -put '+path+'chile/txt/imp/'+file+ ' /user/bdm/temporal/chile/imp', capture_output=True, shell=True)\n",
    "    print(load_hdfs)\n",
    "    \n",
    "    # Remove data from local filesystem\n",
    "    try:\n",
    "        os.remove(path+'chile/txt/imp/'+file)\n",
    "        delete_local = \" % s removed successfully from local filesystem /n\" % file\n",
    "    except OSError as error:\n",
    "        print(error)\n",
    "        delete_local = \" File path can not be removed /n\"\n",
    "\n",
    "    # Print outcomes\n",
    "    # print(load_hdfs)\n",
    "    # print(delete_local)\n",
    "\n",
    "    # Register in log\n",
    "    logger.error(time)\n",
    "    logger.error(load_hdfs)\n",
    "    logger.error(delete_local)\n",
    "\n",
    "    # change the name to the one of the version (using the date of load)\n",
    "    # update_version_name = subprocess.run('hadoop dfs -mv /user/input/Brazil/'+file+' /user/input/Brazil/'+datetime.now().strftime(\"%m_%d_%Y\"))\n"
   ]
  },
  {
   "cell_type": "code",
   "execution_count": 20,
   "metadata": {},
   "outputs": [
    {
     "name": "stdout",
     "output_type": "stream",
     "text": [
      "CompletedProcess(args='~/BDM_Software/hadoop/bin/hadoop fs -put /home/bdm/transfer/Data_VM.nosync/chile/txt/exp/Exportaciones_Enero_2022.txt /user/bdm/temporal/chile/exp', returncode=0, stdout=b'', stderr=b'2022-05-18 09:59:14,137 INFO sasl.SaslDataTransferClient: SASL encryption trust check: localHostTrusted = false, remoteHostTrusted = false\\n')\n",
      "CompletedProcess(args='~/BDM_Software/hadoop/bin/hadoop fs -put /home/bdm/transfer/Data_VM.nosync/chile/txt/exp/.DS_Store /user/bdm/temporal/chile/exp', returncode=0, stdout=b'', stderr=b'2022-05-18 09:59:21,873 INFO sasl.SaslDataTransferClient: SASL encryption trust check: localHostTrusted = false, remoteHostTrusted = false\\n')\n"
     ]
    }
   ],
   "source": [
    "for file in ChileEXP2load:\n",
    "    \n",
    "    # Get time\n",
    "    time = datetime.now().strftime(\"%m/%d/%Y, %H:%M:%S\")\n",
    "\n",
    "    # Load data to HDFS from local filesystem\n",
    "    load_hdfs = subprocess.run(hadoop + 'fs -put '+path+'chile/txt/exp/'+file+ ' /user/bdm/temporal/chile/exp', capture_output=True, shell=True)\n",
    "    print(load_hdfs)\n",
    "    \n",
    "    # Remove data from local filesystem\n",
    "    try:\n",
    "        os.remove(path+'chile/txt/exp/'+file)\n",
    "        delete_local = \" % s removed successfully from local filesystem /n\" % file\n",
    "    except OSError as error:\n",
    "        print(error)\n",
    "        delete_local = \" File path can not be removed /n\"\n",
    "\n",
    "    # Print outcomes\n",
    "    # print(load_hdfs)\n",
    "    # print(delete_local)\n",
    "\n",
    "    # Register in log\n",
    "    logger.error(time)\n",
    "    logger.error(load_hdfs)\n",
    "    logger.error(delete_local)\n",
    "\n",
    "    # change the name to the one of the version (using the date of load)\n",
    "    # update_version_name = subprocess.run('hadoop dfs -mv /user/input/Brazil/'+file+' /user/input/Brazil/'+datetime.now().strftime(\"%m_%d_%Y\"))\n"
   ]
  },
  {
   "cell_type": "code",
   "execution_count": 21,
   "metadata": {},
   "outputs": [],
   "source": [
    "ChileMETAIMP2load = os.listdir(path + 'chile/metadata/imp')\n",
    "ChileMETAEXP2load = os.listdir(path + 'chile/metadata/exp')\n"
   ]
  },
  {
   "cell_type": "code",
   "execution_count": 22,
   "metadata": {},
   "outputs": [
    {
     "name": "stdout",
     "output_type": "stream",
     "text": [
      "CompletedProcess(args='~/BDM_Software/hadoop/bin/hadoop fs -put /home/bdm/transfer/Data_VM.nosync/chile/metadata/imp/IMPORT_descripcion-y-estructura-de-datos-din.xlsx /user/bdm/temporal/chile/metadata/imp', returncode=1, stdout=b'', stderr=b\"put: `/user/bdm/temporal/chile/metadata/imp/IMPORT_descripcion-y-estructura-de-datos-din.xlsx': File exists\\n\")\n",
      "CompletedProcess(args='~/BDM_Software/hadoop/bin/hadoop fs -put /home/bdm/transfer/Data_VM.nosync/chile/metadata/exp/EXPORT_descripcion-y-estructura-de-datos-dus.xlsx /user/bdm/temporal/chile/metadata/exp', returncode=0, stdout=b'', stderr=b'2022-05-18 09:59:32,940 INFO sasl.SaslDataTransferClient: SASL encryption trust check: localHostTrusted = false, remoteHostTrusted = false\\n')\n"
     ]
    }
   ],
   "source": [
    "# export metadata\n",
    "for file in ChileMETAIMP2load:\n",
    "    \n",
    "    # Get time\n",
    "    time = datetime.now().strftime(\"%m/%d/%Y, %H:%M:%S\")\n",
    "\n",
    "    # Load data to HDFS from local filesystem\n",
    "    load_hdfs = subprocess.run(hadoop + 'fs -put '+path+'chile/metadata/imp/'+file+ ' /user/bdm/temporal/chile/metadata/imp', capture_output=True, shell=True)\n",
    "    print(load_hdfs)\n",
    "    # Remove data from local filesystem\n",
    "    try:\n",
    "        os.remove(path+'chile/metadata/imp/'+file)\n",
    "        delete_local = \" % s removed successfully from local filesystem /n\" % file\n",
    "    except OSError as error:\n",
    "        print(error)\n",
    "        delete_local = \" File path can not be removed /n\"\n",
    "\n",
    "    # Print outcomes\n",
    "    # print(load_hdfs)\n",
    "    # print(delete_local)\n",
    "\n",
    "    # Register in log\n",
    "    logger.error(time)\n",
    "    logger.error(load_hdfs)\n",
    "    logger.error(delete_local)\n",
    "\n",
    "\n",
    "# import metadata\n",
    "for file in ChileMETAEXP2load:\n",
    "    \n",
    "    # Get time\n",
    "    time = datetime.now().strftime(\"%m/%d/%Y, %H:%M:%S\")\n",
    "\n",
    "    # Load data to HDFS from local filesystem\n",
    "    load_hdfs = subprocess.run(hadoop +'fs -put '+path+'chile/metadata/exp/'+file+ ' /user/bdm/temporal/chile/metadata/exp', capture_output=True, shell=True)\n",
    "    print(load_hdfs)\n",
    "    # Remove data from local filesystem\n",
    "    try:\n",
    "        os.remove(path+'chile/metadata/exp/'+file)\n",
    "        delete_local = \" % s removed successfully from local filesystem /n\" % file\n",
    "    except OSError as error:\n",
    "        print(error)\n",
    "        delete_local = \" File path can not be removed /n\"\n",
    "\n",
    "    # Print outcomes\n",
    "    # print(load_hdfs)\n",
    "    # print(delete_local)\n",
    "\n",
    "    # Register in log\n",
    "    logger.error(time)\n",
    "    logger.error(load_hdfs)\n",
    "    logger.error(delete_local)\n",
    "\n",
    "    "
   ]
  }
 ],
 "metadata": {
  "interpreter": {
   "hash": "bbe16ac06b6d4bacd07cf5564ffa86eb58e7e2ab169d83d01490a955ddfe1246"
  },
  "kernelspec": {
   "display_name": "Python 3.9.12 ('bdm')",
   "language": "python",
   "name": "python3"
  },
  "language_info": {
   "codemirror_mode": {
    "name": "ipython",
    "version": 3
   },
   "file_extension": ".py",
   "mimetype": "text/x-python",
   "name": "python",
   "nbconvert_exporter": "python",
   "pygments_lexer": "ipython3",
   "version": "3.9.12"
  },
  "orig_nbformat": 4
 },
 "nbformat": 4,
 "nbformat_minor": 2
}
