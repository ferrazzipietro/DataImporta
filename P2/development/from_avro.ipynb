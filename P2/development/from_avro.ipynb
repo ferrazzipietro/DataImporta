{
 "cells": [
  {
   "cell_type": "code",
   "execution_count": 1,
   "id": "afa202d8",
   "metadata": {},
   "outputs": [
    {
     "ename": "ModuleNotFoundError",
     "evalue": "No module named 'pyspark'",
     "output_type": "error",
     "traceback": [
      "\u001b[0;31m---------------------------------------------------------------------------\u001b[0m",
      "\u001b[0;31mModuleNotFoundError\u001b[0m                       Traceback (most recent call last)",
      "\u001b[0;32m/var/folders/s_/9g6p7mn936j1qzv2gp75jsz00000gn/T/ipykernel_20654/628630641.py\u001b[0m in \u001b[0;36m<module>\u001b[0;34m\u001b[0m\n\u001b[0;32m----> 1\u001b[0;31m \u001b[0;32mfrom\u001b[0m \u001b[0mpyspark\u001b[0m\u001b[0;34m.\u001b[0m\u001b[0msql\u001b[0m \u001b[0;32mimport\u001b[0m \u001b[0mSparkSession\u001b[0m\u001b[0;34m\u001b[0m\u001b[0;34m\u001b[0m\u001b[0m\n\u001b[0m\u001b[1;32m      2\u001b[0m \u001b[0;34m\u001b[0m\u001b[0m\n\u001b[1;32m      3\u001b[0m \u001b[0mspark\u001b[0m \u001b[0;34m=\u001b[0m \u001b[0mSparkSession\u001b[0m\u001b[0;34m.\u001b[0m\u001b[0mbuilder\u001b[0m\u001b[0;34m.\u001b[0m\u001b[0mconfig\u001b[0m\u001b[0;34m(\u001b[0m\u001b[0;34m\"spark.jars\"\u001b[0m\u001b[0;34m,\u001b[0m \u001b[0;34m\"/Users/pietro-avro_2.12-3.1.3\"\u001b[0m\u001b[0;34m)\u001b[0m\u001b[0;34m.\u001b[0m\u001b[0mgetOrCreate\u001b[0m\u001b[0;34m(\u001b[0m\u001b[0;34m)\u001b[0m\u001b[0;34m\u001b[0m\u001b[0;34m\u001b[0m\u001b[0m\n\u001b[1;32m      4\u001b[0m \u001b[0;31m# path to the avro\u001b[0m\u001b[0;34m\u001b[0m\u001b[0;34m\u001b[0m\u001b[0m\n\u001b[1;32m      5\u001b[0m \u001b[0mpath_to_avro\u001b[0m \u001b[0;34m=\u001b[0m \u001b[0;34m'/Users/pietro/Desktop/BDM/Project/DataImporta/P2/development/version0.avro'\u001b[0m\u001b[0;34m\u001b[0m\u001b[0;34m\u001b[0m\u001b[0m\n",
      "\u001b[0;31mModuleNotFoundError\u001b[0m: No module named 'pyspark'"
     ]
    }
   ],
   "source": [
    "from pyspark.sql import SparkSession\n",
    "spark = SparkSession.builder.config(\"spark.jars\", \"/Users/pietro-avro_2.12-3.1.3\").getOrCreate()\n",
    "path_to_avro = '/Users/pietro/Desktop/BDM/Project/DataImporta/P2/development/version0.avro'"
   ]
  },
  {
   "cell_type": "code",
   "execution_count": 3,
   "id": "2f22b836",
   "metadata": {},
   "outputs": [
    {
     "name": "stderr",
     "output_type": "stream",
     "text": [
      "22/05/20 15:06:53 WARN package: Truncated the string representation of a plan since it was too large. This behavior can be adjusted by setting 'spark.sql.debug.maxToStringFields'.\n"
     ]
    },
    {
     "name": "stdout",
     "output_type": "stream",
     "text": [
      "+----------+---------+----------+----------+----------+-----------+--------------------+----------+----------+----------+----------+---------+----------+----------+----------+----------+----------+----------+----------+----------+---+----------+----------+----------+----------+----------+----------+--------------------+--------------------+--------------------+--------------------+--------------------+----------+---------+---------+---------+----------+----------+----------+--------+-------+----------+---------+---------+---------+---------+---------+---------+---------+--------+----+--------+----------+-----+----------+---------+----------+----------+\n",
      "|CODI_ADUAN|ANO_PRESE|NUME_CORRE|FECH_INGSI|TIPO_DOCUM| LIBR_TRIBU|             DNOMBRE|CODI_AGENT|FECH_LLEGA|VIA_TRANSP|EMPR_TRANS|CODI_ALMA|CADU_MANIF|FECH_MANIF|NUME_MANIF|FECH_RECEP|FECH_CANCE|TIPO_CANCE|BANC_CANCE|CODI_ENFIN| DK|PAIS_ORIGE|PAIS_ADQUI|PUER_EMBAR|FECH_EMBAR|NUME_SERIE|PART_NANDI|          DESC_COMER|          DESC_MATCO|          DESC_USOAP|          DESC_FOPRE|          DESC_OTROS|FOB_DOLPOL|FLE_DOLAR|SEG_DOLAR|PESO_NETO|PESO_BRUTO|UNID_FIQTY|UNID_FIDES| QUNICOM|TUNICOM|SEST_MERCA|ADV_DOLAR|IGV_DOLAR|ISC_DOLAR|IPM_DOLAR|DES_DOLAR|IPA_DOLAR|SAD_DOLAR|DER_ADUM|COMM|    FMOD|CANT_BULTO|CLASE|TRAT_PREFE|TIPO_TRAT|CODI_LIBER|IMPR_RELIQ|\n",
      "+----------+---------+----------+----------+----------+-----------+--------------------+----------+----------+----------+----------+---------+----------+----------+----------+----------+----------+----------+----------+----------+---+----------+----------+----------+----------+----------+----------+--------------------+--------------------+--------------------+--------------------+--------------------+----------+---------+---------+---------+----------+----------+----------+--------+-------+----------+---------+---------+---------+---------+---------+---------+---------+--------+----+--------+----------+-----+----------+---------+----------+----------+\n",
      "|       172|       22|      2418|  20220210|         4|20602049451|\"IMPORTACIONES MU...|      7521|         0|         7|       nan|     9998|       172|      2022|         0|  20220210|  20220210|        33|     172.0|       nan|  T|        CL|        CL|     CLARI|  20220210|         2| 808100000|MANZANAS FRESCAS,...|VARIEDAD RED DELI...|        PARA CONSUMO|    KILOGRAMOS CAJAS|                 nan|    2352.0|    42.14|     58.8|   3920.0|    4214.0|    3920.0|        KG|   196.0|    CAJ|        10|      0.0|      0.0|      0.0|      0.0|      0.0|      0.0|      0.0|     0.0| 0.0|20220210|     196.0|  CAJ|         0|        1|         0|       nan|\n",
      "|       172|       22|      2418|  20220210|         4|20602049451|\"IMPORTACIONES MU...|      7521|         0|         7|       nan|     9998|       172|      2022|         0|  20220210|  20220210|        33|     172.0|       nan|  T|        CL|        CL|     CLARI|  20220210|         1| 808100000|MANZANAS FRESCAS,...|VARIEDAD ROYAL GA...|        PARA CONSUMO|    KILOGRAMOS CAJAS|                 nan|   11760.0|    200.9|    294.0|  18620.0|   20090.0|   18620.0|        KG|   980.0|    CAJ|        10|      0.0|      0.0|      0.0|      0.0|      0.0|      0.0|      0.0|     0.0| 0.0|20220210|     980.0|  CAJ|         0|        1|         0|       nan|\n",
      "|       172|       22|      2414|  20220210|         4|20602049451|\"IMPORTACIONES MU...|      7521|         0|         7|       nan|     9998|       172|      2022|         0|  20220210|  20220210|        33|     172.0|       nan|  T|        CL|        CL|     CLARI|  20220209|         2| 808300000|PERAS FRESCAS,SIN...|VARIEDAD SUMMER B...|        PARA CONSUMO|    KILOGRAMOS CAJAS|                 nan|    3760.0|   73.631|     94.0|   6768.0|    7332.0|    6768.0|        KG|   376.0|    CAJ|        10|      0.0|      0.0|      0.0|      0.0|      0.0|      0.0|      0.0|     0.0| 0.0|20220210|     376.0|  CAJ|         0|        1|         0|       nan|\n",
      "|       172|       22|      2414|  20220210|         4|20602049451|\"IMPORTACIONES MU...|      7521|         0|         7|       nan|     9998|       172|      2022|         0|  20220210|  20220210|        33|     172.0|       nan|  T|        CL|        CL|     CLARI|  20220209|         1| 808100000|MANZANAS FRESCAS,...|VARIEDAD ROYAL GA...|        PARA CONSUMO|    KILOGRAMOS CAJAS|                 nan|    7840.0|  162.977|    196.0|  15052.8|   16228.8|   15052.8|        KG|   784.0|    CAJ|        10|      0.0|      0.0|      0.0|      0.0|      0.0|      0.0|      0.0|     0.0| 0.0|20220210|     784.0|  CAJ|         0|        1|         0|       nan|\n",
      "|       172|       22|      2421|  20220210|         4|20602049451|\"IMPORTACIONES MU...|      7521|         0|         7|       nan|     9998|       172|      2022|         0|  20220210|  20220210|        33|     172.0|       nan|  T|        CL|        CL|     CLARI|  20220210|         9| 809300000|DURAZNOS FRESCOS,...|VARIEDAD DIAMOND ...|        PARA CONSUMO|    KILOGRAMOS CAJAS|                 nan|     352.0|     3.36|      8.8|    288.0|     336.0|     288.0|        KG|    32.0|    CAJ|        10|      0.0|      0.0|      0.0|      0.0|      0.0|      0.0|      0.0|     0.0| 0.0|20220210|      32.0|  CAJ|         0|        1|         0|       nan|\n",
      "|       172|       22|      2421|  20220210|         4|20602049451|\"IMPORTACIONES MU...|      7521|         0|         7|       nan|     9998|       172|      2022|         0|  20220210|  20220210|        33|     172.0|       nan|  T|        CL|        CL|     CLARI|  20220210|         8| 809300000|DURAZNOS FRESCOS,...|VARIEDAD O`HENRY ...|        PARA CONSUMO|    KILOGRAMOS CAJAS|                 nan|     352.0|     3.36|      8.8|    288.0|     336.0|     288.0|        KG|    32.0|    CAJ|        10|      0.0|      0.0|      0.0|      0.0|      0.0|      0.0|      0.0|     0.0| 0.0|20220210|      32.0|  CAJ|         0|        1|         0|       nan|\n",
      "|       172|       22|      2421|  20220210|         4|20602049451|\"IMPORTACIONES MU...|      7521|         0|         7|       nan|     9998|       172|      2022|         0|  20220210|  20220210|        33|     172.0|       nan|  T|        CL|        CL|     CLARI|  20220210|         7| 809300000|DURAZNOS FRESCOS,...|VARIEDAD SUMMER L...|        PARA CONSUMO|    KILOGRAMOS CAJAS|                 nan|    1584.0|    15.12|     39.6|   1296.0|    1512.0|    1296.0|        KG|   144.0|    CAJ|        10|      0.0|      0.0|      0.0|      0.0|      0.0|      0.0|      0.0|     0.0| 0.0|20220210|     144.0|  CAJ|         0|        1|         0|       nan|\n",
      "|       172|       22|      2421|  20220210|         4|20602049451|\"IMPORTACIONES MU...|      7521|         0|         7|       nan|     9998|       172|      2022|         0|  20220210|  20220210|        33|     172.0|       nan|  T|        CL|        CL|     CLARI|  20220210|         6| 809300000|NECTARINES FRESCO...|VARIEDAD MAGIQUE ...|        PARA CONSUMO|    KILOGRAMOS CAJAS|                 nan|   10296.0|    98.28|    257.4|   8424.0|    9828.0|    8424.0|        KG|   936.0|    CAJ|        10|      0.0|      0.0|      0.0|      0.0|      0.0|      0.0|      0.0|     0.0| 0.0|20220210|     936.0|  CAJ|         0|        1|         0|       nan|\n",
      "|       172|       22|      2421|  20220210|         4|20602049451|\"IMPORTACIONES MU...|      7521|         0|         7|       nan|     9998|       172|      2022|         0|  20220210|  20220210|        33|     172.0|       nan|  T|        CL|        CL|     CLARI|  20220210|         5| 809300000|NECTARINES FRESCO...|VARIEDAD AUGUST P...|        PARA CONSUMO|    KILOGRAMOS CAJAS|                 nan|    2288.0|    21.84|     57.2|   1872.0|    2184.0|    1872.0|        KG|   208.0|    CAJ|        10|      0.0|      0.0|      0.0|      0.0|      0.0|      0.0|      0.0|     0.0| 0.0|20220210|     208.0|  CAJ|         0|        1|         0|       nan|\n",
      "|       172|       22|      2421|  20220210|         4|20602049451|\"IMPORTACIONES MU...|      7521|         0|         7|       nan|     9998|       172|      2022|         0|  20220210|  20220210|        33|     172.0|       nan|  T|        CL|        CL|     CLARI|  20220210|         4| 809300000|NECTARINES FRESCO...|VARIEDAD HONEY DI...|        PARA CONSUMO|    KILOGRAMOS CAJAS|                 nan|    3773.0|   36.015|   94.325|   3087.0|    3601.5|    3087.0|        KG|   343.0|    CAJ|        10|      0.0|      0.0|      0.0|      0.0|      0.0|      0.0|      0.0|     0.0| 0.0|20220210|     343.0|  CAJ|         0|        1|         0|       nan|\n",
      "|       172|       22|      2421|  20220210|         4|20602049451|\"IMPORTACIONES MU...|      7521|         0|         7|       nan|     9998|       172|      2022|         0|  20220210|  20220210|        33|     172.0|       nan|  T|        CL|        CL|     CLARI|  20220210|         3| 809300000|NECTARINES FRESCO...|VARIEDAD SUMMER D...|        PARA CONSUMO|    KILOGRAMOS CAJAS|                 nan|     231.0|    2.205|    5.775|    189.0|     220.5|     189.0|        KG|    21.0|    CAJ|        10|      0.0|      0.0|      0.0|      0.0|      0.0|      0.0|      0.0|     0.0| 0.0|20220210|      21.0|  CAJ|         0|        1|         0|       nan|\n",
      "|       172|       22|      2421|  20220210|         4|20602049451|\"IMPORTACIONES MU...|      7521|         0|         7|       nan|     9998|       172|      2022|         0|  20220210|  20220210|        33|     172.0|       nan|  T|        CL|        CL|     CLARI|  20220210|         2| 809300000|NECTARINES FRESCO...|VARIEDAD SUMMER B...|        PARA CONSUMO|    KILOGRAMOS CAJAS|                 nan|     572.0|     5.46|     14.3|    468.0|     546.0|     468.0|        KG|    52.0|    CAJ|        10|      0.0|      0.0|      0.0|      0.0|      0.0|      0.0|      0.0|     0.0| 0.0|20220210|      52.0|  CAJ|         0|        1|         0|       nan|\n",
      "|       172|       22|      2421|  20220210|         4|20602049451|\"IMPORTACIONES MU...|      7521|         0|         7|       nan|     9998|       172|      2022|         0|  20220210|  20220210|        33|     172.0|       nan|  T|        CL|        CL|     CLARI|  20220210|         1| 808100000|MANZANAS FRESCAS,...|VARIEDAD ROYAL GA...|        PARA CONSUMO|    KILOGRAMOS CAJAS|                 nan|    2940.0|   50.225|     73.5|   4655.0|    5022.5|    4655.0|        KG|   245.0|    CAJ|        10|      0.0|      0.0|      0.0|      0.0|      0.0|      0.0|      0.0|     0.0| 0.0|20220210|     245.0|  CAJ|         0|        1|         0|       nan|\n",
      "|       118|       22|     51787|  20220209|         4|20487482791|       \"SARE S.A.C.\"|      7332|  20220213|         1|      5022|     3803|       118|      2022|       227|  20220209|         0|         0|       nan|       nan|  T|        CN|        CN|     HKHKG|  20220107|         1|8711900000|L1,TRICICLO MOTO ...|CA:MOTOCICLETA,AS...|PB:120,PN:110,CU:...|,VI:LTBLVD2A8MWX0...|TE:CHI,SAC,KILOME...|     850.0|    382.0|     15.0|    120.0|     157.0|       1.0|         U|     1.0|      U|        10|    74.82|   211.49|      0.0|    26.44|      0.0|      0.0|      0.0|     0.0| 0.0|20220213|       1.0|  BUL|         0|        1|         0|       nan|\n",
      "|       235|       22|     20645|  20220211|         4|20600510364|  223 G & A E.I.R.L.|      7729|         0|         4|       nan|     3507|       235|      2022|         0|  20220211|         0|         0|       nan|       nan|  T|        US|        US|     USMIA|  20220203|         4|9303302000|CARABINAS, SAVAGE...|CALIBRE: 308 WIN ...|USO: PARA CAZA Y ...|SAVAGE AXIS II FD...|NUMEROS DE SERIES...|     465.0|   12.434|    13.95|    3.051|     3.231|       1.0|         U|     1.0|      U|        10|      0.0|    78.62|      0.0|     9.83|      0.0|      0.0|      0.0|     0.0| 0.0|20220211|       0.0|  BUL|         0|        1|         0|       nan|\n",
      "|       235|       22|     20645|  20220211|         4|20600510364|  223 G & A E.I.R.L.|      7729|         0|         4|       nan|     3507|       235|      2022|         0|  20220211|         0|         0|       nan|       nan|  T|        US|        US|     USMIA|  20220203|         3|9303302000|CARABINAS, PALMET...|CALIBRE: 308 WIN ...|USO: PARA CAZA Y ...|PALMETO STATE ARM...|NUMEROS DE SERIES...|    1950.0|   52.151|     58.5|   12.795|    13.551|       2.0|         U|     2.0|      U|        10|      0.0|    329.7|      0.0|    41.21|      0.0|      0.0|      0.0|     0.0| 0.0|20220211|       0.0|  BUL|         0|        1|         0|       nan|\n",
      "|       235|       22|     20645|  20220211|         4|20600510364|  223 G & A E.I.R.L.|      7729|         0|         4|       nan|     3507|       235|      2022|         0|  20220211|         0|         0|       nan|       nan|  T|        US|        US|     USMIA|  20220203|         2|9303302000|CARABINAS, AMERIC...|CALIBRE: .223 REM...|USO: PARA CAZA Y ...|ATI MIL-SPORT RIF...|                 nan|   31115.0|  832.115|   933.45|  204.154|   216.218|      49.0|         U|    49.0|      U|        10|      0.0|  5260.89|      0.0|   657.61|      0.0|      0.0|      0.0|     0.0| 0.0|20220211|      11.0|  BUL|         0|        1|         0|       nan|\n",
      "|       235|       22|     20645|  20220211|         4|20600510364|  223 G & A E.I.R.L.|      7729|         0|         4|       nan|     3507|       235|      2022|         0|  20220211|         0|         0|       nan|       nan|  T|        US|        US|     USMIA|  20220124|         1|9306303000|MUNICIONES, WINCH...|     CALIBRE .223REM|      USO: CAZA (L2)|WINCHESTER .223RE...|                 nan|  48898.07|   6536.2|  733.471|   1800.0|    1893.0|  150000.0|         U|150000.0|      U|        10|      0.0|  8986.84|      0.0|  1123.35|      0.0|      0.0|      0.0|     0.0| 0.0|20220211|       2.0|  BUL|         0|        1|         0|       nan|\n",
      "|       235|       22|     19023|  20220209|         4|20601798159|2A SOLUCIONES S.A.C.|      4803|  20220209|         4|        5Y|     4501|       235|      2022|      2088|  20220209|         0|         0|       nan|       nan|  T|        BR|        BR|     BRVCP|  20220203|         9|8483500000|POLEA, SCHNELL BR...|EN UNIDADES // AR...|VOLANTES Y POLEAS...|ROLDANA DO PUXADO...|ACERO// REPUESTO ...|    1010.2|   82.852|    2.411|   18.026|     18.55|       4.0|         U|     4.0|      U|        10|      0.0|   175.27|      0.0|    21.91|      0.0|      0.0|      0.0|     0.0| 0.0|20220211|       0.0|  BUL|         0|        1|         0|       nan|\n",
      "|       235|       22|     19023|  20220209|         4|20601798159|2A SOLUCIONES S.A.C.|      4803|  20220209|         4|        5Y|     4501|       235|      2022|      2088|  20220209|         0|         0|       nan|       nan|  T|        BR|        BR|     BRVCP|  20220203|         8|8483500000|POLEA, SCHNELL BR...|EN UNIDADES // AR...|VOLANTES Y POLEAS...|ROLDANA DO ENDIRE...|ACERO// REPUESTO ...|   1691.04|  138.688|    4.035|   30.176|    31.053|      24.0|         U|    24.0|      U|        10|      0.0|    293.4|      0.0|    36.68|      0.0|      0.0|      0.0|     0.0| 0.0|20220211|       0.0|  BUL|         0|        1|         0|       nan|\n",
      "+----------+---------+----------+----------+----------+-----------+--------------------+----------+----------+----------+----------+---------+----------+----------+----------+----------+----------+----------+----------+----------+---+----------+----------+----------+----------+----------+----------+--------------------+--------------------+--------------------+--------------------+--------------------+----------+---------+---------+---------+----------+----------+----------+--------+-------+----------+---------+---------+---------+---------+---------+---------+---------+--------+----+--------+----------+-----+----------+---------+----------+----------+\n",
      "only showing top 20 rows\n",
      "\n"
     ]
    }
   ],
   "source": [
    "\n",
    "df = spark.read.format('avro').load(path_to_avro)\n",
    "type(df)\n",
    "df1 = df.take(5)\n",
    "type(df1)\n",
    "rdd=df.rdd\n",
    "print(rdd.take(2))"
   ]
  }
 ],
 "metadata": {
  "interpreter": {
   "hash": "b0fa6594d8f4cbf19f97940f81e996739fb7646882a419484c72d19e05852a7e"
  },
  "kernelspec": {
   "display_name": "Python 3.9.10 64-bit",
   "language": "python",
   "name": "python3"
  },
  "language_info": {
   "codemirror_mode": {
    "name": "ipython",
    "version": 3
   },
   "file_extension": ".py",
   "mimetype": "text/x-python",
   "name": "python",
   "nbconvert_exporter": "python",
   "pygments_lexer": "ipython3",
   "version": "3.9.12"
  }
 },
 "nbformat": 4,
 "nbformat_minor": 5
}
