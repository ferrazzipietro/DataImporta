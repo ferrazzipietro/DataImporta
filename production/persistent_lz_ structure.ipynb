{
 "cells": [
  {
   "cell_type": "markdown",
   "metadata": {},
   "source": [
    "### **CREATING THE STRUCTUR OF THE PERSISTENT LANDING ZONE** "
   ]
  },
  {
   "cell_type": "markdown",
   "metadata": {},
   "source": [
    "\t/persistent\n",
    "\t\t/peru\n",
    "\t\t\t/imp\n",
    "\t\t\t\t/year\n",
    "\t\t\t/exp\n",
    "\t\t\t\t/year\n",
    "\t\t\t/metadata\n",
    "\t\t/chile\n",
    "\t\t\t/imp\n",
    "\t\t\t\t/year\n",
    "\t\t\t/exp\n",
    "\t\t\t\t/year\n",
    "\t\t\t/metadata\n",
    "\t\t/brazil\n",
    "\t\t\t/imp\n",
    "\t\t\t\t/year\n",
    "\t\t\t/exp\n",
    "\t\t\t\t/year\n",
    "\t\t\t/metadata\n"
   ]
  },
  {
   "cell_type": "code",
   "execution_count": 6,
   "metadata": {},
   "outputs": [],
   "source": [
    "import subprocess"
   ]
  },
  {
   "cell_type": "markdown",
   "metadata": {},
   "source": [
    "The connection should be already open."
   ]
  },
  {
   "cell_type": "code",
   "execution_count": 7,
   "metadata": {},
   "outputs": [
    {
     "name": "stderr",
     "output_type": "stream",
     "text": [
      "2022-03-30 19:43:58,850 WARN util.NativeCodeLoader: Unable to load native-hadoop library for your platform... using builtin-java classes where applicable\n"
     ]
    },
    {
     "data": {
      "text/plain": [
       "CompletedProcess(args='hadoop fs -mkdir /persistent', returncode=0)"
      ]
     },
     "execution_count": 7,
     "metadata": {},
     "output_type": "execute_result"
    }
   ],
   "source": [
    "# generate persistent directory\n",
    "\n",
    "subprocess.run('hadoop fs -mkdir /persistent', shell=True)\n"
   ]
  },
  {
   "cell_type": "markdown",
   "metadata": {},
   "source": [
    "Generate all the children"
   ]
  },
  {
   "cell_type": "code",
   "execution_count": 8,
   "metadata": {},
   "outputs": [
    {
     "name": "stderr",
     "output_type": "stream",
     "text": [
      "2022-03-30 19:43:59,671 WARN util.NativeCodeLoader: Unable to load native-hadoop library for your platform... using builtin-java classes where applicable\n",
      "2022-03-30 19:44:00,375 WARN util.NativeCodeLoader: Unable to load native-hadoop library for your platform... using builtin-java classes where applicable\n",
      "2022-03-30 19:44:01,130 WARN util.NativeCodeLoader: Unable to load native-hadoop library for your platform... using builtin-java classes where applicable\n",
      "2022-03-30 19:44:01,839 WARN util.NativeCodeLoader: Unable to load native-hadoop library for your platform... using builtin-java classes where applicable\n",
      "2022-03-30 19:44:02,559 WARN util.NativeCodeLoader: Unable to load native-hadoop library for your platform... using builtin-java classes where applicable\n",
      "2022-03-30 19:44:03,296 WARN util.NativeCodeLoader: Unable to load native-hadoop library for your platform... using builtin-java classes where applicable\n",
      "2022-03-30 19:44:04,028 WARN util.NativeCodeLoader: Unable to load native-hadoop library for your platform... using builtin-java classes where applicable\n",
      "2022-03-30 19:44:04,731 WARN util.NativeCodeLoader: Unable to load native-hadoop library for your platform... using builtin-java classes where applicable\n",
      "2022-03-30 19:44:05,420 WARN util.NativeCodeLoader: Unable to load native-hadoop library for your platform... using builtin-java classes where applicable\n",
      "2022-03-30 19:44:06,106 WARN util.NativeCodeLoader: Unable to load native-hadoop library for your platform... using builtin-java classes where applicable\n",
      "2022-03-30 19:44:06,786 WARN util.NativeCodeLoader: Unable to load native-hadoop library for your platform... using builtin-java classes where applicable\n",
      "2022-03-30 19:44:07,486 WARN util.NativeCodeLoader: Unable to load native-hadoop library for your platform... using builtin-java classes where applicable\n",
      "2022-03-30 19:44:08,181 WARN util.NativeCodeLoader: Unable to load native-hadoop library for your platform... using builtin-java classes where applicable\n",
      "2022-03-30 19:44:08,887 WARN util.NativeCodeLoader: Unable to load native-hadoop library for your platform... using builtin-java classes where applicable\n",
      "2022-03-30 19:44:09,570 WARN util.NativeCodeLoader: Unable to load native-hadoop library for your platform... using builtin-java classes where applicable\n",
      "2022-03-30 19:44:10,262 WARN util.NativeCodeLoader: Unable to load native-hadoop library for your platform... using builtin-java classes where applicable\n",
      "2022-03-30 19:44:10,950 WARN util.NativeCodeLoader: Unable to load native-hadoop library for your platform... using builtin-java classes where applicable\n",
      "2022-03-30 19:44:11,631 WARN util.NativeCodeLoader: Unable to load native-hadoop library for your platform... using builtin-java classes where applicable\n",
      "2022-03-30 19:44:12,346 WARN util.NativeCodeLoader: Unable to load native-hadoop library for your platform... using builtin-java classes where applicable\n",
      "2022-03-30 19:44:13,025 WARN util.NativeCodeLoader: Unable to load native-hadoop library for your platform... using builtin-java classes where applicable\n",
      "2022-03-30 19:44:13,728 WARN util.NativeCodeLoader: Unable to load native-hadoop library for your platform... using builtin-java classes where applicable\n",
      "2022-03-30 19:44:14,444 WARN util.NativeCodeLoader: Unable to load native-hadoop library for your platform... using builtin-java classes where applicable\n",
      "2022-03-30 19:44:15,138 WARN util.NativeCodeLoader: Unable to load native-hadoop library for your platform... using builtin-java classes where applicable\n",
      "2022-03-30 19:44:15,835 WARN util.NativeCodeLoader: Unable to load native-hadoop library for your platform... using builtin-java classes where applicable\n",
      "2022-03-30 19:44:16,514 WARN util.NativeCodeLoader: Unable to load native-hadoop library for your platform... using builtin-java classes where applicable\n"
     ]
    }
   ],
   "source": [
    "# defining directories' names\n",
    "countries = ['peru', 'chile', 'brazil']\n",
    "sub_coun = ['imp', 'exp', 'metadata']\n",
    "# define is metadata contains subdirectories or directly files\n",
    "meta_sub_bool = [False, True, False]\n",
    "# iterator\n",
    "i = 0\n",
    "\n",
    "for country in countries:\n",
    "    \n",
    "    # generate new directory for the country\n",
    "    subprocess.run('hadoop fs -mkdir /persistent/'+country, shell=True)\n",
    "\n",
    "    # generating sub-country directories\n",
    "    for sub in sub_coun:\n",
    "        subprocess.run('hadoop fs -mkdir /persistent/'+country+'/'+sub, shell=True)\n",
    "        \n",
    "        # generate new directory for the year based on the starting data we have (today's data)\n",
    "        subprocess.run('hadoop fs -mkdir /persistent/'+country+'/'+sub+'/2022', shell=True)\n",
    "\n",
    "        if sub == 'metadata' and meta_sub_bool[i]:\n",
    "            subprocess.run('hadoop fs -mkdir /persistent/'+country+'/'+sub+'/'+'exp', shell=True)\n",
    "            subprocess.run('hadoop fs -mkdir /persistent/'+country+'/'+sub+'/'+'imp', shell=True)\n",
    "    i =+ 1\n",
    "\n"
   ]
  }
 ],
 "metadata": {
  "interpreter": {
   "hash": "7aebba27af0ad7a107eefb5f45c2c0e3b706889879721715298efbbae69258ec"
  },
  "kernelspec": {
   "display_name": "Python 3.9.7 ('bdm_project')",
   "language": "python",
   "name": "python3"
  },
  "language_info": {
   "codemirror_mode": {
    "name": "ipython",
    "version": 3
   },
   "file_extension": ".py",
   "mimetype": "text/x-python",
   "name": "python",
   "nbconvert_exporter": "python",
   "pygments_lexer": "ipython3",
   "version": "3.9.7"
  },
  "orig_nbformat": 4
 },
 "nbformat": 4,
 "nbformat_minor": 2
}
