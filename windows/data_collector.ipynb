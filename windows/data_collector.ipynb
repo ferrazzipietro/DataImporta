{
 "cells": [
  {
   "cell_type": "markdown",
   "metadata": {},
   "source": [
    "### **DATA COLLECTOR**"
   ]
  },
  {
   "cell_type": "markdown",
   "metadata": {},
   "source": [
    "Import necessary packages"
   ]
  },
  {
   "cell_type": "code",
   "execution_count": 174,
   "metadata": {},
   "outputs": [],
   "source": [
    "import subprocess\n",
    "import os\n",
    "import logging\n",
    "from datetime import datetime"
   ]
  },
  {
   "cell_type": "markdown",
   "metadata": {},
   "source": [
    "Path of data in local file system"
   ]
  },
  {
   "cell_type": "code",
   "execution_count": 175,
   "metadata": {},
   "outputs": [],
   "source": [
    "path = 'D:/Master/BDMA/Courses/Semester_2/Big_Data_Management/Project/dataimporta/windows/rawdata/'"
   ]
  },
  {
   "cell_type": "markdown",
   "metadata": {},
   "source": [
    "Get the files to be loaded in the temporal landing zone (HDFS)"
   ]
  },
  {
   "cell_type": "code",
   "execution_count": 176,
   "metadata": {},
   "outputs": [
    {
     "data": {
      "text/plain": [
       "['Importaciones Enero 2022.txt']"
      ]
     },
     "execution_count": 176,
     "metadata": {},
     "output_type": "execute_result"
    }
   ],
   "source": [
    "files2load = os.listdir(path)\n",
    "files2load"
   ]
  },
  {
   "cell_type": "markdown",
   "metadata": {},
   "source": [
    "Setup logfile"
   ]
  },
  {
   "cell_type": "code",
   "execution_count": 177,
   "metadata": {},
   "outputs": [],
   "source": [
    "logger = logging.getLogger()\n",
    "if (logger.hasHandlers()):\n",
    "    logger.handlers.clear()\n",
    "handler = logging.FileHandler('logfile.log')\n",
    "logger.addHandler(handler)"
   ]
  },
  {
   "cell_type": "markdown",
   "metadata": {},
   "source": [
    "Load the files in the temporal landing zone"
   ]
  },
  {
   "cell_type": "code",
   "execution_count": 178,
   "metadata": {},
   "outputs": [
    {
     "name": "stdout",
     "output_type": "stream",
     "text": [
      "CompletedProcess(args=['hadoop', 'fs', '-put', 'D:/Master/BDMA/Courses/Semester_2/Big_Data_Management/Project/dataimporta/windows/rawdata/Importaciones Enero 2022.txt', '/temporal/chile/imp'], returncode=0, stdout=b'', stderr=b'')\n",
      " Importaciones Enero 2022.txt removed successfully from local filesystem\n"
     ]
    }
   ],
   "source": [
    "for file in files2load:\n",
    "\n",
    "    # Get time\n",
    "    time = datetime.now().strftime(\"%m/%d/%Y, %H:%M:%S\")\n",
    "\n",
    "    # Load data to HDFS from local filesystem\n",
    "    load_hdfs = subprocess.run(['hadoop', 'fs', '-put', path+file, '/temporal/chile/imp'], capture_output=True, shell=True)\n",
    "\n",
    "    # Remove data from local filesystem\n",
    "    try:\n",
    "        os.remove(path+file)\n",
    "        delete_local = \" % s removed successfully from local filesystem\" % file\n",
    "    except OSError as error:\n",
    "        print(error)\n",
    "        delete_local = \" File path can not be removed\"\n",
    "\n",
    "    # Print outcomes\n",
    "    print(load_hdfs)\n",
    "    print(delete_local)\n",
    "\n",
    "    # Register in log\n",
    "    logger.error(time)\n",
    "    logger.error(load_hdfs)\n",
    "    logger.error(delete_local)\n",
    "\n"
   ]
  },
  {
   "cell_type": "markdown",
   "metadata": {},
   "source": [
    "Verify the loading of the files"
   ]
  },
  {
   "cell_type": "code",
   "execution_count": 180,
   "metadata": {},
   "outputs": [
    {
     "data": {
      "text/plain": [
       "b'Found 1 items\\r\\n-rw-r--r--   1 spost supergroup  389597978 2022-03-31 01:22 /temporal/chile/imp/Importaciones Enero 2022.txt\\r\\n'"
      ]
     },
     "execution_count": 180,
     "metadata": {},
     "output_type": "execute_result"
    }
   ],
   "source": [
    "x = subprocess.run('hadoop fs -ls /temporal/chile/imp', capture_output=True, shell=True)\n",
    "x.stdout"
   ]
  }
 ],
 "metadata": {
  "interpreter": {
   "hash": "fd040cd6d2f6c03fa7abba4128c8b33c22dfb22c58d45ceefc9f5658edabb3e8"
  },
  "kernelspec": {
   "display_name": "Python 3.9.7 ('bdm_project')",
   "language": "python",
   "name": "python3"
  },
  "language_info": {
   "codemirror_mode": {
    "name": "ipython",
    "version": 3
   },
   "file_extension": ".py",
   "mimetype": "text/x-python",
   "name": "python",
   "nbconvert_exporter": "python",
   "pygments_lexer": "ipython3",
   "version": "3.9.7"
  },
  "orig_nbformat": 4
 },
 "nbformat": 4,
 "nbformat_minor": 2
}
