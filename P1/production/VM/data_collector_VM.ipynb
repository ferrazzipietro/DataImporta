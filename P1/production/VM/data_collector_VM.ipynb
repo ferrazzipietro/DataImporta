{
 "cells": [
  {
   "cell_type": "markdown",
   "metadata": {},
   "source": [
    "### **DATA COLLECTOR**"
   ]
  },
  {
   "cell_type": "markdown",
   "metadata": {},
   "source": [
    "Import necessary packages"
   ]
  },
  {
   "cell_type": "code",
   "execution_count": 1,
   "metadata": {},
   "outputs": [],
   "source": [
    "import subprocess\n",
    "import os\n",
    "import logging\n",
    "from datetime import datetime"
   ]
  },
  {
   "cell_type": "markdown",
   "metadata": {},
   "source": [
    "Path of data in local file system"
   ]
  },
  {
   "cell_type": "code",
   "execution_count": 2,
   "metadata": {},
   "outputs": [],
   "source": [
    "path = '/Users/pietro/Desktop/BDM/Project/Data.nosync/'"
   ]
  },
  {
   "cell_type": "markdown",
   "metadata": {},
   "source": [
    "Get the files to be loaded in the temporal landing zone (HDFS)"
   ]
  },
  {
   "cell_type": "code",
   "execution_count": 10,
   "metadata": {},
   "outputs": [],
   "source": [
    "BrazilIMP2load = os.listdir(path + 'brazil/csv/imp')\n",
    "BrazilEXP2load = os.listdir(path + 'brazil/csv/exp')\n",
    "BrazilMETA2load = os.listdir(path + 'brazil/metadata')\n",
    "\n",
    "ChileIMP2load = os.listdir(path + 'chile/txt/imp')\n",
    "ChileEXP2load = os.listdir(path + 'chile/txt/exp')\n",
    "ChileMETAIMP2load = os.listdir(path + 'chile/metadata/imp')\n",
    "ChileMETAEXP2load = os.listdir(path + 'chile/metadata/exp')\n",
    "\n",
    "PeruEXP2load = os.listdir(path + 'peru/csv/exp')\n",
    "PeruIMP2load = os.listdir(path + 'peru/csv/imp')\n",
    "PeruMETA2load = os.listdir(path + 'peru/metadata')"
   ]
  },
  {
   "cell_type": "markdown",
   "metadata": {},
   "source": [
    "Setup logfile"
   ]
  },
  {
   "cell_type": "code",
   "execution_count": 5,
   "metadata": {},
   "outputs": [],
   "source": [
    "logger = logging.getLogger()\n",
    "if (logger.hasHandlers()):\n",
    "    logger.handlers.clear()\n",
    "handler = logging.FileHandler('logfile.log')\n",
    "logger.addHandler(handler)"
   ]
  },
  {
   "cell_type": "markdown",
   "metadata": {},
   "source": [
    "**Load the files in the temporal landing zone**"
   ]
  },
  {
   "cell_type": "markdown",
   "metadata": {},
   "source": [
    "Brazil"
   ]
  },
  {
   "cell_type": "code",
   "execution_count": 11,
   "metadata": {},
   "outputs": [
    {
     "name": "stdout",
     "output_type": "stream",
     "text": [
      "CompletedProcess(args='hadoop fs -put /Users/pietro/Desktop/BDM/Project/Data.nosync/brazil/csv/imp/IMP_2022_NCM.csv /temporal/brazil/imp', returncode=0, stdout=b'', stderr=b'2022-04-04 10:50:44,406 WARN util.NativeCodeLoader: Unable to load native-hadoop library for your platform... using builtin-java classes where applicable\\n')\n"
     ]
    }
   ],
   "source": [
    "for file in BrazilIMP2load:\n",
    "    \n",
    "    # Get time\n",
    "    time = datetime.now().strftime(\"%m/%d/%Y, %H:%M:%S\")\n",
    "\n",
    "    # Load data to HDFS from local filesystem\n",
    "    load_hdfs = subprocess.run('hadoop fs -put '+path+'brazil/csv/imp/'+file+ ' /temporal/brazil/imp', capture_output=True, shell=True)\n",
    "    print(load_hdfs)\n",
    "    # Remove data from local filesystem\n",
    "    try:\n",
    "        os.remove(path+'brazil/csv/imp/'+file)\n",
    "        delete_local = \" % s removed successfully from local filesystem /n\" % file\n",
    "    except OSError as error:\n",
    "        print(error)\n",
    "        delete_local = \" File path can not be removed /n\"\n",
    "\n",
    "    # Print outcomes\n",
    "    # print(load_hdfs)\n",
    "    # print(delete_local)\n",
    "\n",
    "    # Register in log\n",
    "    logger.error(time)\n",
    "    logger.error(load_hdfs)\n",
    "    logger.error(delete_local)\n",
    "\n",
    "    # change the name to the one of the version (using the date of load)\n",
    "    # update_version_name = subprocess.run('hadoop dfs -mv /user/input/Brazil/'+file+' /user/input/Brazil/'+datetime.now().strftime(\"%m_%d_%Y\"))"
   ]
  },
  {
   "cell_type": "code",
   "execution_count": 12,
   "metadata": {},
   "outputs": [
    {
     "name": "stdout",
     "output_type": "stream",
     "text": [
      "CompletedProcess(args='hadoop fs -put /Users/pietro/Desktop/BDM/Project/Data.nosync/brazil/csv/exp/EXP_2022_NCM.csv /temporal/brazil/exp', returncode=0, stdout=b'', stderr=b'2022-04-04 10:50:48,450 WARN util.NativeCodeLoader: Unable to load native-hadoop library for your platform... using builtin-java classes where applicable\\n')\n"
     ]
    }
   ],
   "source": [
    "for file in BrazilEXP2load:\n",
    "    \n",
    "    # Get time\n",
    "    time = datetime.now().strftime(\"%m/%d/%Y, %H:%M:%S\")\n",
    "\n",
    "    # Load data to HDFS from local filesystem\n",
    "    load_hdfs = subprocess.run('hadoop fs -put '+path+'brazil/csv/exp/'+file+ ' /temporal/brazil/exp', capture_output=True, shell=True)\n",
    "    print(load_hdfs)\n",
    "    # Remove data from local filesystem\n",
    "    try:\n",
    "        os.remove(path+'brazil/csv/exp/'+file)\n",
    "        delete_local = \" % s removed successfully from local filesystem /n\" % file\n",
    "    except OSError as error:\n",
    "        print(error)\n",
    "        delete_local = \" File path can not be removed /n\"\n",
    "\n",
    "    # Print outcomes\n",
    "    # print(load_hdfs)\n",
    "    # print(delete_local)\n",
    "\n",
    "    # Register in log\n",
    "    logger.error(time)\n",
    "    logger.error(load_hdfs)\n",
    "    logger.error(delete_local)\n",
    "\n",
    "    # change the name to the one of the version (using the date of load)\n",
    "    # update_version_name = subprocess.run('hadoop dfs -mv /user/input/Brazil/'+file+' /user/input/Brazil/'+datetime.now().strftime(\"%m_%d_%Y\"))\n",
    "\n",
    "\n"
   ]
  },
  {
   "cell_type": "code",
   "execution_count": 13,
   "metadata": {},
   "outputs": [
    {
     "name": "stdout",
     "output_type": "stream",
     "text": [
      "CompletedProcess(args='hadoop fs -put /Users/pietro/Desktop/BDM/Project/Data.nosync/brazil/metadata/CUCI.csv /temporal/brazil/metadata', returncode=0, stdout=b'', stderr=b'2022-04-04 10:50:51,572 WARN util.NativeCodeLoader: Unable to load native-hadoop library for your platform... using builtin-java classes where applicable\\n')\n",
      "CompletedProcess(args='hadoop fs -put /Users/pietro/Desktop/BDM/Project/Data.nosync/brazil/metadata/ISIC .csv /temporal/brazil/metadata', returncode=1, stdout=b'', stderr=b\"2022-04-04 10:50:52,841 WARN util.NativeCodeLoader: Unable to load native-hadoop library for your platform... using builtin-java classes where applicable\\nput: `/Users/pietro/Desktop/BDM/Project/Data.nosync/brazil/metadata/ISIC': No such file or directory\\nput: `.csv': No such file or directory\\n\")\n",
      "CompletedProcess(args='hadoop fs -put /Users/pietro/Desktop/BDM/Project/Data.nosync/brazil/metadata/TABELAS_AUXILIARES.xlsx /temporal/brazil/metadata', returncode=0, stdout=b'', stderr=b'2022-04-04 10:50:53,536 WARN util.NativeCodeLoader: Unable to load native-hadoop library for your platform... using builtin-java classes where applicable\\n')\n",
      "CompletedProcess(args='hadoop fs -put /Users/pietro/Desktop/BDM/Project/Data.nosync/brazil/metadata/NCM_FAT_AGREG.csv /temporal/brazil/metadata', returncode=0, stdout=b'', stderr=b'2022-04-04 10:50:54,375 WARN util.NativeCodeLoader: Unable to load native-hadoop library for your platform... using builtin-java classes where applicable\\n')\n",
      "CompletedProcess(args='hadoop fs -put /Users/pietro/Desktop/BDM/Project/Data.nosync/brazil/metadata/SH.csv /temporal/brazil/metadata', returncode=0, stdout=b'', stderr=b'2022-04-04 10:50:55,184 WARN util.NativeCodeLoader: Unable to load native-hadoop library for your platform... using builtin-java classes where applicable\\n')\n",
      "CompletedProcess(args='hadoop fs -put /Users/pietro/Desktop/BDM/Project/Data.nosync/brazil/metadata/MUN.csv /temporal/brazil/metadata', returncode=0, stdout=b'', stderr=b'2022-04-04 10:50:56,011 WARN util.NativeCodeLoader: Unable to load native-hadoop library for your platform... using builtin-java classes where applicable\\n')\n",
      "CompletedProcess(args='hadoop fs -put /Users/pietro/Desktop/BDM/Project/Data.nosync/brazil/metadata/Explanaiton Brasil.txt /temporal/brazil/metadata', returncode=1, stdout=b'', stderr=b\"2022-04-04 10:50:56,792 WARN util.NativeCodeLoader: Unable to load native-hadoop library for your platform... using builtin-java classes where applicable\\nput: `/Users/pietro/Desktop/BDM/Project/Data.nosync/brazil/metadata/Explanaiton': No such file or directory\\nput: `Brasil.txt': No such file or directory\\n\")\n",
      "CompletedProcess(args='hadoop fs -put /Users/pietro/Desktop/BDM/Project/Data.nosync/brazil/metadata/NCM_PPE.csv /temporal/brazil/metadata', returncode=0, stdout=b'', stderr=b'2022-04-04 10:50:57,492 WARN util.NativeCodeLoader: Unable to load native-hadoop library for your platform... using builtin-java classes where applicable\\n')\n",
      "CompletedProcess(args='hadoop fs -put /Users/pietro/Desktop/BDM/Project/Data.nosync/brazil/metadata/NCM.csv /temporal/brazil/metadata', returncode=0, stdout=b'', stderr=b'2022-04-04 10:50:58,692 WARN util.NativeCodeLoader: Unable to load native-hadoop library for your platform... using builtin-java classes where applicable\\n')\n",
      "CompletedProcess(args='hadoop fs -put /Users/pietro/Desktop/BDM/Project/Data.nosync/brazil/metadata/PAIS.csv /temporal/brazil/metadata', returncode=0, stdout=b'', stderr=b'2022-04-04 10:50:59,970 WARN util.NativeCodeLoader: Unable to load native-hadoop library for your platform... using builtin-java classes where applicable\\n')\n",
      "CompletedProcess(args='hadoop fs -put /Users/pietro/Desktop/BDM/Project/Data.nosync/brazil/metadata/UF.csv /temporal/brazil/metadata', returncode=0, stdout=b'', stderr=b'2022-04-04 10:51:00,778 WARN util.NativeCodeLoader: Unable to load native-hadoop library for your platform... using builtin-java classes where applicable\\n')\n"
     ]
    }
   ],
   "source": [
    "for file in BrazilMETA2load:\n",
    "    \n",
    "    # Get time\n",
    "    time = datetime.now().strftime(\"%m/%d/%Y, %H:%M:%S\")\n",
    "\n",
    "    # Load data to HDFS from local filesystem\n",
    "    load_hdfs = subprocess.run('hadoop fs -put '+path+'brazil/metadata/'+file+ ' /temporal/brazil/metadata', capture_output=True, shell=True)\n",
    "    print(load_hdfs)\n",
    "    # Remove data from local filesystem\n",
    "    try:\n",
    "        os.remove(path+'brazil/metadata/'+file)\n",
    "        delete_local = \" % s removed successfully from local filesystem /n\" % file\n",
    "    except OSError as error:\n",
    "        print(error)\n",
    "        delete_local = \" File path can not be removed /n\"\n",
    "\n",
    "    # Print outcomes\n",
    "    # print(load_hdfs)\n",
    "    # print(delete_local)\n",
    "\n",
    "    # Register in log\n",
    "    logger.error(time)\n",
    "    logger.error(load_hdfs)\n",
    "    logger.error(delete_local)\n"
   ]
  },
  {
   "cell_type": "markdown",
   "metadata": {},
   "source": [
    "Perù"
   ]
  },
  {
   "cell_type": "code",
   "execution_count": 14,
   "metadata": {},
   "outputs": [],
   "source": [
    "for file in PeruIMP2load:\n",
    "    \n",
    "    # Get time\n",
    "    time = datetime.now().strftime(\"%m/%d/%Y, %H:%M:%S\")\n",
    "\n",
    "    # Load data to HDFS from local filesystem\n",
    "    load_hdfs = subprocess.run('hadoop fs -put '+path+'peru/csv/imp/'+file+ ' /temporal/peru/imp', capture_output=True, shell=True)\n",
    "    print(load_hdfs)\n",
    "    # Remove data from local filesystem\n",
    "    try:\n",
    "        os.remove(path+'peru/csv/imp/'+file)\n",
    "        delete_local = \" % s removed successfully from local filesystem /n\" % file\n",
    "    except OSError as error:\n",
    "        print(error)\n",
    "        delete_local = \" File path can not be removed /n\"\n",
    "\n",
    "    # Print outcomes\n",
    "    # print(load_hdfs)\n",
    "    # print(delete_local)\n",
    "\n",
    "    # Register in log\n",
    "    logger.error(time)\n",
    "    logger.error(load_hdfs)\n",
    "    logger.error(delete_local)\n",
    "\n",
    "    # change the name to the one of the version (using the date of load)\n",
    "    # update_version_name = subprocess.run('hadoop dfs -mv /user/input/Brazil/'+file+' /user/input/Brazil/'+datetime.now().strftime(\"%m_%d_%Y\"))\n"
   ]
  },
  {
   "cell_type": "code",
   "execution_count": 15,
   "metadata": {},
   "outputs": [
    {
     "name": "stdout",
     "output_type": "stream",
     "text": [
      "CompletedProcess(args='hadoop fs -put /Users/pietro/Desktop/BDM/Project/Data.nosync/peru/csv/exp/x21270222.csv /temporal/peru/exp', returncode=0, stdout=b'', stderr=b'2022-04-04 10:51:06,927 WARN util.NativeCodeLoader: Unable to load native-hadoop library for your platform... using builtin-java classes where applicable\\n')\n",
      "CompletedProcess(args='hadoop fs -put /Users/pietro/Desktop/BDM/Project/Data.nosync/peru/csv/exp/x07130222.csv /temporal/peru/exp', returncode=0, stdout=b'', stderr=b'2022-04-04 10:51:07,860 WARN util.NativeCodeLoader: Unable to load native-hadoop library for your platform... using builtin-java classes where applicable\\n')\n",
      "CompletedProcess(args='hadoop fs -put /Users/pietro/Desktop/BDM/Project/Data.nosync/peru/csv/exp/x31060222.csv /temporal/peru/exp', returncode=0, stdout=b'', stderr=b'2022-04-04 10:51:09,091 WARN util.NativeCodeLoader: Unable to load native-hadoop library for your platform... using builtin-java classes where applicable\\n')\n",
      "CompletedProcess(args='hadoop fs -put /Users/pietro/Desktop/BDM/Project/Data.nosync/peru/csv/exp/x24300122.csv /temporal/peru/exp', returncode=0, stdout=b'', stderr=b'2022-04-04 10:51:09,884 WARN util.NativeCodeLoader: Unable to load native-hadoop library for your platform... using builtin-java classes where applicable\\n')\n",
      "CompletedProcess(args='hadoop fs -put /Users/pietro/Desktop/BDM/Project/Data.nosync/peru/csv/exp/x17230122.csv /temporal/peru/exp', returncode=0, stdout=b'', stderr=b'2022-04-04 10:51:10,689 WARN util.NativeCodeLoader: Unable to load native-hadoop library for your platform... using builtin-java classes where applicable\\n')\n",
      "CompletedProcess(args='hadoop fs -put /Users/pietro/Desktop/BDM/Project/Data.nosync/peru/csv/exp/x28060322.csv /temporal/peru/exp', returncode=0, stdout=b'', stderr=b'2022-04-04 10:51:11,490 WARN util.NativeCodeLoader: Unable to load native-hadoop library for your platform... using builtin-java classes where applicable\\n')\n",
      "CompletedProcess(args='hadoop fs -put /Users/pietro/Desktop/BDM/Project/Data.nosync/peru/csv/exp/x14200222.csv /temporal/peru/exp', returncode=0, stdout=b'', stderr=b'2022-04-04 10:51:12,291 WARN util.NativeCodeLoader: Unable to load native-hadoop library for your platform... using builtin-java classes where applicable\\n')\n"
     ]
    }
   ],
   "source": [
    "for file in PeruEXP2load:\n",
    "    \n",
    "    # Get time\n",
    "    time = datetime.now().strftime(\"%m/%d/%Y, %H:%M:%S\")\n",
    "\n",
    "    # Load data to HDFS from local filesystem\n",
    "    load_hdfs = subprocess.run('hadoop fs -put '+path+'peru/csv/exp/'+file+ ' /temporal/peru/exp', capture_output=True, shell=True)\n",
    "    print(load_hdfs)\n",
    "    # Remove data from local filesystem\n",
    "    try:\n",
    "        os.remove(path+'peru/csv/exp/'+file)\n",
    "        delete_local = \" % s removed successfully from local filesystem /n\" % file\n",
    "    except OSError as error:\n",
    "        print(error)\n",
    "        delete_local = \" File path can not be removed /n\"\n",
    "\n",
    "    # Print outcomes\n",
    "    # print(load_hdfs)\n",
    "    # print(delete_local)\n",
    "\n",
    "    # Register in log\n",
    "    logger.error(time)\n",
    "    logger.error(load_hdfs)\n",
    "    logger.error(delete_local)\n",
    "\n",
    "    # change the name to the one of the version (using the date of load)\n",
    "    # update_version_name = subprocess.run('hadoop dfs -mv /user/input/Brazil/'+file+' /user/input/Brazil/'+datetime.now().strftime(\"%m_%d_%Y\"))\n"
   ]
  },
  {
   "cell_type": "code",
   "execution_count": 16,
   "metadata": {},
   "outputs": [
    {
     "name": "stdout",
     "output_type": "stream",
     "text": [
      "CompletedProcess(args='hadoop fs -put /Users/pietro/Desktop/BDM/Project/Data.nosync/peru/metadata/Puertos.txt /temporal/peru/metadata', returncode=0, stdout=b'', stderr=b'2022-04-04 10:51:18,853 WARN util.NativeCodeLoader: Unable to load native-hadoop library for your platform... using builtin-java classes where applicable\\n')\n",
      "CompletedProcess(args='hadoop fs -put /Users/pietro/Desktop/BDM/Project/Data.nosync/peru/metadata/RegOpeAduaneras.txt /temporal/peru/metadata', returncode=0, stdout=b'', stderr=b'2022-04-04 10:51:19,723 WARN util.NativeCodeLoader: Unable to load native-hadoop library for your platform... using builtin-java classes where applicable\\n')\n",
      "CompletedProcess(args='hadoop fs -put /Users/pietro/Desktop/BDM/Project/Data.nosync/peru/metadata/Documento.txt /temporal/peru/metadata', returncode=0, stdout=b'', stderr=b'2022-04-04 10:51:20,508 WARN util.NativeCodeLoader: Unable to load native-hadoop library for your platform... using builtin-java classes where applicable\\n')\n",
      "CompletedProcess(args='hadoop fs -put /Users/pietro/Desktop/BDM/Project/Data.nosync/peru/metadata/Sanciones.txt /temporal/peru/metadata', returncode=0, stdout=b'', stderr=b'2022-04-04 10:51:21,256 WARN util.NativeCodeLoader: Unable to load native-hadoop library for your platform... using builtin-java classes where applicable\\n')\n",
      "CompletedProcess(args='hadoop fs -put /Users/pietro/Desktop/BDM/Project/Data.nosync/peru/metadata/AgenNav.txt /temporal/peru/metadata', returncode=0, stdout=b'', stderr=b'2022-04-04 10:51:22,004 WARN util.NativeCodeLoader: Unable to load native-hadoop library for your platform... using builtin-java classes where applicable\\n')\n",
      "CompletedProcess(args='hadoop fs -put /Users/pietro/Desktop/BDM/Project/Data.nosync/peru/metadata/EmpNacional.txt /temporal/peru/metadata', returncode=0, stdout=b'', stderr=b'2022-04-04 10:51:22,789 WARN util.NativeCodeLoader: Unable to load native-hadoop library for your platform... using builtin-java classes where applicable\\n')\n",
      "CompletedProcess(args='hadoop fs -put /Users/pietro/Desktop/BDM/Project/Data.nosync/peru/metadata/MerExpTemp.txt /temporal/peru/metadata', returncode=0, stdout=b'', stderr=b'2022-04-04 10:51:23,545 WARN util.NativeCodeLoader: Unable to load native-hadoop library for your platform... using builtin-java classes where applicable\\n')\n",
      "CompletedProcess(args='hadoop fs -put /Users/pietro/Desktop/BDM/Project/Data.nosync/peru/metadata/Agente.txt /temporal/peru/metadata', returncode=0, stdout=b'', stderr=b'2022-04-04 10:51:24,344 WARN util.NativeCodeLoader: Unable to load native-hadoop library for your platform... using builtin-java classes where applicable\\n')\n",
      "CompletedProcess(args='hadoop fs -put /Users/pietro/Desktop/BDM/Project/Data.nosync/peru/metadata/AgenMar.txt /temporal/peru/metadata', returncode=0, stdout=b'', stderr=b'2022-04-04 10:51:25,151 WARN util.NativeCodeLoader: Unable to load native-hadoop library for your platform... using builtin-java classes where applicable\\n')\n",
      "CompletedProcess(args='hadoop fs -put /Users/pietro/Desktop/BDM/Project/Data.nosync/peru/metadata/Tablibe.txt /temporal/peru/metadata', returncode=0, stdout=b'', stderr=b'2022-04-04 10:51:25,948 WARN util.NativeCodeLoader: Unable to load native-hadoop library for your platform... using builtin-java classes where applicable\\n')\n",
      "CompletedProcess(args='hadoop fs -put /Users/pietro/Desktop/BDM/Project/Data.nosync/peru/metadata/EstMercancia.txt /temporal/peru/metadata', returncode=0, stdout=b'', stderr=b'2022-04-04 10:51:26,780 WARN util.NativeCodeLoader: Unable to load native-hadoop library for your platform... using builtin-java classes where applicable\\n')\n",
      "CompletedProcess(args='hadoop fs -put /Users/pietro/Desktop/BDM/Project/Data.nosync/peru/metadata/UnidComerExp.txt /temporal/peru/metadata', returncode=0, stdout=b'', stderr=b'2022-04-04 10:51:27,585 WARN util.NativeCodeLoader: Unable to load native-hadoop library for your platform... using builtin-java classes where applicable\\n')\n",
      "CompletedProcess(args='hadoop fs -put /Users/pietro/Desktop/BDM/Project/Data.nosync/peru/metadata/RecintAduaner.txt /temporal/peru/metadata', returncode=0, stdout=b'', stderr=b'2022-04-04 10:51:28,382 WARN util.NativeCodeLoader: Unable to load native-hadoop library for your platform... using builtin-java classes where applicable\\n')\n",
      "CompletedProcess(args='hadoop fs -put /Users/pietro/Desktop/BDM/Project/Data.nosync/peru/metadata/UnidMercancia.txt /temporal/peru/metadata', returncode=0, stdout=b'', stderr=b'2022-04-04 10:51:29,173 WARN util.NativeCodeLoader: Unable to load native-hadoop library for your platform... using builtin-java classes where applicable\\n')\n",
      "CompletedProcess(args='hadoop fs -put /Users/pietro/Desktop/BDM/Project/Data.nosync/peru/metadata/EntAutMerRest.txt /temporal/peru/metadata', returncode=0, stdout=b'', stderr=b'2022-04-04 10:51:29,958 WARN util.NativeCodeLoader: Unable to load native-hadoop library for your platform... using builtin-java classes where applicable\\n')\n",
      "CompletedProcess(args='hadoop fs -put /Users/pietro/Desktop/BDM/Project/Data.nosync/peru/metadata/Bancos.txt /temporal/peru/metadata', returncode=0, stdout=b'', stderr=b'2022-04-04 10:51:31,171 WARN util.NativeCodeLoader: Unable to load native-hadoop library for your platform... using builtin-java classes where applicable\\n')\n",
      "CompletedProcess(args='hadoop fs -put /Users/pietro/Desktop/BDM/Project/Data.nosync/peru/metadata/Monedas.txt /temporal/peru/metadata', returncode=0, stdout=b'', stderr=b'2022-04-04 10:51:31,968 WARN util.NativeCodeLoader: Unable to load native-hadoop library for your platform... using builtin-java classes where applicable\\n')\n",
      "CompletedProcess(args='hadoop fs -put /Users/pietro/Desktop/BDM/Project/Data.nosync/peru/metadata/AgenCar.txt /temporal/peru/metadata', returncode=0, stdout=b'', stderr=b'2022-04-04 10:51:32,739 WARN util.NativeCodeLoader: Unable to load native-hadoop library for your platform... using builtin-java classes where applicable\\n')\n",
      "CompletedProcess(args='hadoop fs -put /Users/pietro/Desktop/BDM/Project/Data.nosync/peru/metadata/UnidMedida.txt /temporal/peru/metadata', returncode=0, stdout=b'', stderr=b'2022-04-04 10:51:33,544 WARN util.NativeCodeLoader: Unable to load native-hadoop library for your platform... using builtin-java classes where applicable\\n')\n",
      "CompletedProcess(args='hadoop fs -put /Users/pietro/Desktop/BDM/Project/Data.nosync/peru/metadata/TipDocumAutMerRest.txt /temporal/peru/metadata', returncode=0, stdout=b'', stderr=b'2022-04-04 10:51:34,778 WARN util.NativeCodeLoader: Unable to load native-hadoop library for your platform... using builtin-java classes where applicable\\n')\n",
      "CompletedProcess(args='hadoop fs -put /Users/pietro/Desktop/BDM/Project/Data.nosync/peru/metadata/AgenEmb.txt /temporal/peru/metadata', returncode=0, stdout=b'', stderr=b'2022-04-04 10:51:35,561 WARN util.NativeCodeLoader: Unable to load native-hadoop library for your platform... using builtin-java classes where applicable\\n')\n",
      "CompletedProcess(args='hadoop fs -put /Users/pietro/Desktop/BDM/Project/Data.nosync/peru/metadata/EmpInternac.txt /temporal/peru/metadata', returncode=0, stdout=b'', stderr=b'2022-04-04 10:51:36,379 WARN util.NativeCodeLoader: Unable to load native-hadoop library for your platform... using builtin-java classes where applicable\\n')\n",
      "CompletedProcess(args='hadoop fs -put /Users/pietro/Desktop/BDM/Project/Data.nosync/peru/metadata/LinAereasManif.txt /temporal/peru/metadata', returncode=0, stdout=b'', stderr=b'2022-04-04 10:51:37,212 WARN util.NativeCodeLoader: Unable to load native-hadoop library for your platform... using builtin-java classes where applicable\\n')\n",
      "CompletedProcess(args='hadoop fs -put /Users/pietro/Desktop/BDM/Project/Data.nosync/peru/metadata/CodProvS.txt /temporal/peru/metadata', returncode=0, stdout=b'', stderr=b'2022-04-04 10:51:37,996 WARN util.NativeCodeLoader: Unable to load native-hadoop library for your platform... using builtin-java classes where applicable\\n')\n",
      "CompletedProcess(args='hadoop fs -put /Users/pietro/Desktop/BDM/Project/Data.nosync/peru/metadata/MedTransporte.txt /temporal/peru/metadata', returncode=0, stdout=b'', stderr=b'2022-04-04 10:51:38,786 WARN util.NativeCodeLoader: Unable to load native-hadoop library for your platform... using builtin-java classes where applicable\\n')\n",
      "CompletedProcess(args='hadoop fs -put /Users/pietro/Desktop/BDM/Project/Data.nosync/peru/metadata/Paises.txt /temporal/peru/metadata', returncode=0, stdout=b'', stderr=b'2022-04-04 10:51:39,564 WARN util.NativeCodeLoader: Unable to load native-hadoop library for your platform... using builtin-java classes where applicable\\n')\n",
      "CompletedProcess(args='hadoop fs -put /Users/pietro/Desktop/BDM/Project/Data.nosync/peru/metadata/codprov.txt /temporal/peru/metadata', returncode=0, stdout=b'', stderr=b'2022-04-04 10:51:40,328 WARN util.NativeCodeLoader: Unable to load native-hadoop library for your platform... using builtin-java classes where applicable\\n')\n",
      "CompletedProcess(args='hadoop fs -put /Users/pietro/Desktop/BDM/Project/Data.nosync/peru/metadata/MotValorAjust.txt /temporal/peru/metadata', returncode=0, stdout=b'', stderr=b'2022-04-04 10:51:41,096 WARN util.NativeCodeLoader: Unable to load native-hadoop library for your platform... using builtin-java classes where applicable\\n')\n",
      "CompletedProcess(args='hadoop fs -put /Users/pietro/Desktop/BDM/Project/Data.nosync/peru/metadata/TipUltract.txt /temporal/peru/metadata', returncode=0, stdout=b'', stderr=b'2022-04-04 10:51:41,859 WARN util.NativeCodeLoader: Unable to load native-hadoop library for your platform... using builtin-java classes where applicable\\n')\n",
      "CompletedProcess(args='hadoop fs -put /Users/pietro/Desktop/BDM/Project/Data.nosync/peru/metadata/Aduanas.txt /temporal/peru/metadata', returncode=0, stdout=b'', stderr=b'2022-04-04 10:51:43,051 WARN util.NativeCodeLoader: Unable to load native-hadoop library for your platform... using builtin-java classes where applicable\\n')\n",
      "CompletedProcess(args='hadoop fs -put /Users/pietro/Desktop/BDM/Project/Data.nosync/peru/metadata/Aerolineas.txt /temporal/peru/metadata', returncode=0, stdout=b'', stderr=b'2022-04-04 10:51:43,869 WARN util.NativeCodeLoader: Unable to load native-hadoop library for your platform... using builtin-java classes where applicable\\n')\n",
      "CompletedProcess(args='hadoop fs -put /Users/pietro/Desktop/BDM/Project/Data.nosync/peru/metadata/Tributos.txt /temporal/peru/metadata', returncode=0, stdout=b'', stderr=b'2022-04-04 10:51:44,643 WARN util.NativeCodeLoader: Unable to load native-hadoop library for your platform... using builtin-java classes where applicable\\n')\n",
      "CompletedProcess(args='hadoop fs -put /Users/pietro/Desktop/BDM/Project/Data.nosync/peru/metadata/TipTratamiento.txt /temporal/peru/metadata', returncode=0, stdout=b'', stderr=b'2022-04-04 10:51:45,407 WARN util.NativeCodeLoader: Unable to load native-hadoop library for your platform... using builtin-java classes where applicable\\n')\n"
     ]
    }
   ],
   "source": [
    "for file in PeruMETA2load:\n",
    "    \n",
    "    # Get time\n",
    "    time = datetime.now().strftime(\"%m/%d/%Y, %H:%M:%S\")\n",
    "\n",
    "    # Load data to HDFS from local filesystem\n",
    "    load_hdfs = subprocess.run('hadoop fs -put '+path+'peru/metadata/'+file+ ' /temporal/peru/metadata', capture_output=True, shell=True)\n",
    "    print(load_hdfs)\n",
    "    # Remove data from local filesystem\n",
    "    try:\n",
    "        os.remove(path+'peru/metadata/'+file)\n",
    "        delete_local = \" % s removed successfully from local filesystem /n\" % file\n",
    "    except OSError as error:\n",
    "        print(error)\n",
    "        delete_local = \" File path can not be removed /n\"\n",
    "\n",
    "    # Print outcomes\n",
    "    # print(load_hdfs)\n",
    "    # print(delete_local)\n",
    "\n",
    "    # Register in log\n",
    "    logger.error(time)\n",
    "    logger.error(load_hdfs)\n",
    "    logger.error(delete_local)"
   ]
  },
  {
   "cell_type": "markdown",
   "metadata": {},
   "source": [
    "Chile"
   ]
  },
  {
   "cell_type": "code",
   "execution_count": 17,
   "metadata": {},
   "outputs": [
    {
     "name": "stdout",
     "output_type": "stream",
     "text": [
      "CompletedProcess(args='hadoop fs -put /Users/pietro/Desktop/BDM/Project/Data.nosync/chile/txt/imp/Importaciones_Enero_2022.txt /temporal/chile/imp', returncode=0, stdout=b'', stderr=b'2022-04-04 10:51:48,730 WARN util.NativeCodeLoader: Unable to load native-hadoop library for your platform... using builtin-java classes where applicable\\n')\n"
     ]
    }
   ],
   "source": [
    "for file in ChileIMP2load:\n",
    "    \n",
    "    # Get time\n",
    "    time = datetime.now().strftime(\"%m/%d/%Y, %H:%M:%S\")\n",
    "\n",
    "    # Load data to HDFS from local filesystem\n",
    "    load_hdfs = subprocess.run('hadoop fs -put '+path+'chile/txt/imp/'+file+ ' /temporal/chile/imp', capture_output=True, shell=True)\n",
    "    print(load_hdfs)\n",
    "    \n",
    "    # Remove data from local filesystem\n",
    "    try:\n",
    "        os.remove(path+'chile/txt/imp/'+file)\n",
    "        delete_local = \" % s removed successfully from local filesystem /n\" % file\n",
    "    except OSError as error:\n",
    "        print(error)\n",
    "        delete_local = \" File path can not be removed /n\"\n",
    "\n",
    "    # Print outcomes\n",
    "    # print(load_hdfs)\n",
    "    # print(delete_local)\n",
    "\n",
    "    # Register in log\n",
    "    logger.error(time)\n",
    "    logger.error(load_hdfs)\n",
    "    logger.error(delete_local)\n",
    "\n",
    "    # change the name to the one of the version (using the date of load)\n",
    "    # update_version_name = subprocess.run('hadoop dfs -mv /user/input/Brazil/'+file+' /user/input/Brazil/'+datetime.now().strftime(\"%m_%d_%Y\"))\n"
   ]
  },
  {
   "cell_type": "code",
   "execution_count": 18,
   "metadata": {},
   "outputs": [
    {
     "name": "stdout",
     "output_type": "stream",
     "text": [
      "CompletedProcess(args='hadoop fs -put /Users/pietro/Desktop/BDM/Project/Data.nosync/chile/txt/exp/.DS_Store /temporal/chile/exp', returncode=0, stdout=b'', stderr=b'2022-04-04 10:51:52,862 WARN util.NativeCodeLoader: Unable to load native-hadoop library for your platform... using builtin-java classes where applicable\\n')\n",
      "CompletedProcess(args='hadoop fs -put /Users/pietro/Desktop/BDM/Project/Data.nosync/chile/txt/exp/Exportaciones_Enero_2022.txt /temporal/chile/exp', returncode=0, stdout=b'', stderr=b'2022-04-04 10:51:53,757 WARN util.NativeCodeLoader: Unable to load native-hadoop library for your platform... using builtin-java classes where applicable\\n')\n"
     ]
    }
   ],
   "source": [
    "for file in ChileEXP2load:\n",
    "    \n",
    "    # Get time\n",
    "    time = datetime.now().strftime(\"%m/%d/%Y, %H:%M:%S\")\n",
    "\n",
    "    # Load data to HDFS from local filesystem\n",
    "    load_hdfs = subprocess.run('hadoop fs -put '+path+'chile/txt/exp/'+file+ ' /temporal/chile/exp', capture_output=True, shell=True)\n",
    "    print(load_hdfs)\n",
    "    \n",
    "    # Remove data from local filesystem\n",
    "    try:\n",
    "        os.remove(path+'chile/txt/exp/'+file)\n",
    "        delete_local = \" % s removed successfully from local filesystem /n\" % file\n",
    "    except OSError as error:\n",
    "        print(error)\n",
    "        delete_local = \" File path can not be removed /n\"\n",
    "\n",
    "    # Print outcomes\n",
    "    # print(load_hdfs)\n",
    "    # print(delete_local)\n",
    "\n",
    "    # Register in log\n",
    "    logger.error(time)\n",
    "    logger.error(load_hdfs)\n",
    "    logger.error(delete_local)\n",
    "\n",
    "    # change the name to the one of the version (using the date of load)\n",
    "    # update_version_name = subprocess.run('hadoop dfs -mv /user/input/Brazil/'+file+' /user/input/Brazil/'+datetime.now().strftime(\"%m_%d_%Y\"))\n"
   ]
  },
  {
   "cell_type": "code",
   "execution_count": 19,
   "metadata": {},
   "outputs": [],
   "source": [
    "ChileMETAIMP2load = os.listdir(path + 'chile/metadata/imp')\n",
    "ChileMETAEXP2load = os.listdir(path + 'chile/metadata/exp')\n"
   ]
  },
  {
   "cell_type": "code",
   "execution_count": 20,
   "metadata": {},
   "outputs": [
    {
     "name": "stdout",
     "output_type": "stream",
     "text": [
      "CompletedProcess(args='hadoop fs -put /Users/pietro/Desktop/BDM/Project/Data.nosync/chile/metadata/imp/IMPORT_descripcion-y-estructura-de-datos-din.xlsx /temporal/chile/metadata/imp', returncode=0, stdout=b'', stderr=b'2022-04-04 10:52:00,912 WARN util.NativeCodeLoader: Unable to load native-hadoop library for your platform... using builtin-java classes where applicable\\n')\n",
      "CompletedProcess(args='hadoop fs -put /Users/pietro/Desktop/BDM/Project/Data.nosync/chile/metadata/exp/EXPORT_descripcion-y-estructura-de-datos-dus.xlsx /temporal/chile/metadata/exp', returncode=0, stdout=b'', stderr=b'2022-04-04 10:52:01,762 WARN util.NativeCodeLoader: Unable to load native-hadoop library for your platform... using builtin-java classes where applicable\\n')\n"
     ]
    }
   ],
   "source": [
    "# export metadata\n",
    "for file in ChileMETAIMP2load:\n",
    "    \n",
    "    # Get time\n",
    "    time = datetime.now().strftime(\"%m/%d/%Y, %H:%M:%S\")\n",
    "\n",
    "    # Load data to HDFS from local filesystem\n",
    "    load_hdfs = subprocess.run('hadoop fs -put '+path+'chile/metadata/imp/'+file+ ' /temporal/chile/metadata/imp', capture_output=True, shell=True)\n",
    "    print(load_hdfs)\n",
    "    # Remove data from local filesystem\n",
    "    try:\n",
    "        os.remove(path+'chile/metadata/imp/'+file)\n",
    "        delete_local = \" % s removed successfully from local filesystem /n\" % file\n",
    "    except OSError as error:\n",
    "        print(error)\n",
    "        delete_local = \" File path can not be removed /n\"\n",
    "\n",
    "    # Print outcomes\n",
    "    # print(load_hdfs)\n",
    "    # print(delete_local)\n",
    "\n",
    "    # Register in log\n",
    "    logger.error(time)\n",
    "    logger.error(load_hdfs)\n",
    "    logger.error(delete_local)\n",
    "\n",
    "\n",
    "# import metadata\n",
    "for file in ChileMETAEXP2load:\n",
    "    \n",
    "    # Get time\n",
    "    time = datetime.now().strftime(\"%m/%d/%Y, %H:%M:%S\")\n",
    "\n",
    "    # Load data to HDFS from local filesystem\n",
    "    load_hdfs = subprocess.run('hadoop fs -put '+path+'chile/metadata/exp/'+file+ ' /temporal/chile/metadata/exp', capture_output=True, shell=True)\n",
    "    print(load_hdfs)\n",
    "    # Remove data from local filesystem\n",
    "    try:\n",
    "        os.remove(path+'chile/metadata/exp/'+file)\n",
    "        delete_local = \" % s removed successfully from local filesystem /n\" % file\n",
    "    except OSError as error:\n",
    "        print(error)\n",
    "        delete_local = \" File path can not be removed /n\"\n",
    "\n",
    "    # Print outcomes\n",
    "    # print(load_hdfs)\n",
    "    # print(delete_local)\n",
    "\n",
    "    # Register in log\n",
    "    logger.error(time)\n",
    "    logger.error(load_hdfs)\n",
    "    logger.error(delete_local)\n",
    "\n",
    "    "
   ]
  }
 ],
 "metadata": {
  "interpreter": {
   "hash": "fd040cd6d2f6c03fa7abba4128c8b33c22dfb22c58d45ceefc9f5658edabb3e8"
  },
  "kernelspec": {
   "display_name": "Python 3.9.7 ('bdm_project')",
   "language": "python",
   "name": "python3"
  },
  "language_info": {
   "codemirror_mode": {
    "name": "ipython",
    "version": 3
   },
   "file_extension": ".py",
   "mimetype": "text/x-python",
   "name": "python",
   "nbconvert_exporter": "python",
   "pygments_lexer": "ipython3",
   "version": "3.9.7"
  },
  "orig_nbformat": 4
 },
 "nbformat": 4,
 "nbformat_minor": 2
}
